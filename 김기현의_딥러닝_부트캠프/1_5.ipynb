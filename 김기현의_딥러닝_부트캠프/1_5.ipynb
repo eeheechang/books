{
 "cells": [
  {
   "cell_type": "code",
   "execution_count": 7,
   "metadata": {},
   "outputs": [],
   "source": [
    "import torch\n",
    "import numpy as np"
   ]
  },
  {
   "attachments": {},
   "cell_type": "markdown",
   "metadata": {},
   "source": [
    "파이토치 텐서 생성하기"
   ]
  },
  {
   "cell_type": "code",
   "execution_count": 6,
   "metadata": {},
   "outputs": [
    {
     "name": "stdout",
     "output_type": "stream",
     "text": [
      "tensor([[1., 2.],\n",
      "        [3., 4.]])\n",
      "tensor([[1, 2],\n",
      "        [3, 4]])\n",
      "tensor([[1, 0],\n",
      "        [0, 1]], dtype=torch.uint8)\n",
      "tensor([[0.0000e+00, 7.4269e-44],\n",
      "        [2.1159e+23, 1.3434e-05],\n",
      "        [2.0546e+20, 1.0812e-05]])\n"
     ]
    }
   ],
   "source": [
    "ft = torch.FloatTensor([[1, 2],[3, 4]])\n",
    "print(ft)\n",
    "\n",
    "lt = torch.LongTensor([[1, 2],[3, 4]])\n",
    "print(lt)\n",
    "\n",
    "bt = torch.ByteTensor([[1, 0],[0, 1]])\n",
    "print(bt)\n",
    "\n",
    "# 임의의 값으로 채워진 원하는 크기의 텐서 \n",
    "x = torch.FloatTensor(3, 2)\n",
    "print(x)\n",
    "\n"
   ]
  },
  {
   "attachments": {},
   "cell_type": "markdown",
   "metadata": {},
   "source": [
    "넘파이 호환"
   ]
  },
  {
   "cell_type": "code",
   "execution_count": 14,
   "metadata": {},
   "outputs": [
    {
     "name": "stdout",
     "output_type": "stream",
     "text": [
      "[[1 2]\n",
      " [3 4]] <class 'numpy.ndarray'>\n",
      "==================================================\n",
      "tensor([[1, 2],\n",
      "        [3, 4]], dtype=torch.int32) <class 'torch.Tensor'>\n",
      "==================================================\n",
      "[[1 2]\n",
      " [3 4]] <class 'numpy.ndarray'>\n"
     ]
    }
   ],
   "source": [
    "# 넘파이 배열 \n",
    "x1 = np.array([[1, 2],[3, 4]])\n",
    "print(x1, type(x1))\n",
    "\n",
    "print('='*50)\n",
    "# 넘파이 배열 -> 파이토치 텐서로 변환 \n",
    "x2 = torch.from_numpy(x1)\n",
    "print(x2, type(x2))\n",
    "\n",
    "\n",
    "print('='*50)\n",
    "# 파이토치 텐서 -> 넘파이 배열로 변환\n",
    "x3 = x2.numpy()\n",
    "print(x3, type(x3))\n"
   ]
  },
  {
   "attachments": {},
   "cell_type": "markdown",
   "metadata": {},
   "source": [
    "텐서 타입 변환 "
   ]
  },
  {
   "cell_type": "code",
   "execution_count": 19,
   "metadata": {},
   "outputs": [
    {
     "name": "stdout",
     "output_type": "stream",
     "text": [
      "float->long : tensor([[1, 2],\n",
      "        [3, 4]])\n",
      "long->float : tensor([[1., 2.],\n",
      "        [3., 4.]])\n"
     ]
    }
   ],
   "source": [
    "print(f'float->long : {ft.long()}')\n",
    "\n",
    "print(f'long->float : {lt.float()}')"
   ]
  },
  {
   "attachments": {},
   "cell_type": "markdown",
   "metadata": {},
   "source": [
    "텐서 크기 구하기"
   ]
  },
  {
   "cell_type": "code",
   "execution_count": 28,
   "metadata": {},
   "outputs": [
    {
     "name": "stdout",
     "output_type": "stream",
     "text": [
      "torch.Size([3, 2, 2])\n",
      "torch.Size([3, 2, 2])\n",
      "3\n",
      "3\n"
     ]
    }
   ],
   "source": [
    "x = torch.FloatTensor([[[1,2],[3,4]],[[5,6],[7,8]],[[9,10],[11,12]]])\n",
    "print(x.size())\n",
    "print(x.shape)\n",
    "\n",
    "# 텐서 차원의 개수 \n",
    "print(x.dim())\n",
    "print(len(x.size()))"
   ]
  },
  {
   "attachments": {},
   "cell_type": "markdown",
   "metadata": {},
   "source": [
    "기본 연산 : 메모리에 새롭게 할당"
   ]
  },
  {
   "cell_type": "code",
   "execution_count": 49,
   "metadata": {},
   "outputs": [
    {
     "name": "stdout",
     "output_type": "stream",
     "text": [
      "+ : tensor([[3., 4.],\n",
      "        [6., 7.]])\n",
      "- : tensor([[-1.,  0.],\n",
      "        [ 0.,  1.]])\n",
      "* : tensor([[ 2.,  4.],\n",
      "        [ 9., 12.]])\n",
      "/ : tensor([[0.5000, 1.0000],\n",
      "        [1.0000, 1.3333]])\n",
      "** : tensor([[ 1.,  4.],\n",
      "        [27., 64.]])\n",
      "== : tensor([[False,  True],\n",
      "        [ True, False]])\n",
      "!= : tensor([[ True, False],\n",
      "        [False,  True]])\n"
     ]
    }
   ],
   "source": [
    "a = torch.FloatTensor([[1,2],[3,4]])\n",
    "b = torch.FloatTensor([[2,2],[3,3]])\n",
    "\n",
    "print(f'+ : {a+b}')\n",
    "print(f'- : {a-b}')\n",
    "print(f'* : {a*b}')\n",
    "print(f'/ : {a/b}')\n",
    "print(f'** : {a**b}')\n",
    "print(f'== : {a==b}')\n",
    "print(f'!= : {a!=b}')\n",
    "\n",
    "\n",
    "\n"
   ]
  },
  {
   "attachments": {},
   "cell_type": "markdown",
   "metadata": {},
   "source": [
    "인플레이스 연산 : 기존 텐서에 결과 저장"
   ]
  },
  {
   "cell_type": "code",
   "execution_count": 50,
   "metadata": {},
   "outputs": [
    {
     "name": "stdout",
     "output_type": "stream",
     "text": [
      "a : tensor([[1., 2.],\n",
      "        [3., 4.]])\n",
      "mul(*) : tensor([[ 2.,  4.],\n",
      "        [ 9., 12.]])\n",
      "new_a : tensor([[1., 2.],\n",
      "        [3., 4.]])\n"
     ]
    }
   ],
   "source": [
    "# 기존 연산방법 -> a 본래의 값은 바뀌지 않음 \n",
    "print(f'a : {a}')\n",
    "print(f'mul(*) : {a.mul(b)}')\n",
    "print(f'new_a : {a}')"
   ]
  },
  {
   "cell_type": "code",
   "execution_count": 52,
   "metadata": {},
   "outputs": [
    {
     "name": "stdout",
     "output_type": "stream",
     "text": [
      "a : tensor([[ 2.,  4.],\n",
      "        [ 9., 12.]])\n",
      "inplace mul_() : tensor([[ 4.,  8.],\n",
      "        [27., 36.]])\n",
      "new_inplace_a : tensor([[ 4.,  8.],\n",
      "        [27., 36.]])\n"
     ]
    }
   ],
   "source": [
    "# 인플레이스 연산방법 -> a 본래의 값이 바뀜 \n",
    "print(f'a : {a}')\n",
    "print(f'inplace mul_() : {a.mul_(b)}')\n",
    "print(f'new_inplace_a : {a}')"
   ]
  },
  {
   "attachments": {},
   "cell_type": "markdown",
   "metadata": {},
   "source": [
    "차원 축소 연산 "
   ]
  },
  {
   "cell_type": "code",
   "execution_count": 58,
   "metadata": {},
   "outputs": [
    {
     "name": "stdout",
     "output_type": "stream",
     "text": [
      "sum : 10.0\n",
      "mean : 2.5\n",
      "dim=0 : tensor([4., 6.])\n",
      "dim=1 : tensor([3., 7.])\n",
      "dim=2 : tensor([[ 6., 15., 24.]])\n"
     ]
    }
   ],
   "source": [
    "x = torch.FloatTensor([[1,2],[3,4]])\n",
    "y = torch.FloatTensor([[[1,2,3],[4,5,6],[7,8,9]]])\n",
    "\n",
    "# sum() / mean() 함수를 통해 차원 축소 \n",
    "print(f'sum : {x.sum()}')\n",
    "print(f'mean : {x.mean()}')\n",
    "\n",
    "print(f'dim=0 : {x.sum(dim=0)}')\n",
    "print(f'dim=1 : {x.sum(dim=1)}')\n",
    "print(f'dim=2 : {y.sum(dim=2)}')"
   ]
  },
  {
   "attachments": {},
   "cell_type": "markdown",
   "metadata": {},
   "source": [
    "브로드캐스트 연산 : 크기가 다른 텐서 연산 "
   ]
  },
  {
   "cell_type": "code",
   "execution_count": 79,
   "metadata": {},
   "outputs": [
    {
     "name": "stdout",
     "output_type": "stream",
     "text": [
      "x+y : tensor([[2., 3.],\n",
      "        [4., 5.]])\n",
      "size : torch.Size([2, 2])\n",
      "==================================================\n",
      "x1+y1 : tensor([[ 4.,  7.],\n",
      "        [ 7., 13.]])\n",
      "size : torch.Size([2, 2])\n",
      "==================================================\n",
      "x2+y2 : tensor([[4., 5.],\n",
      "        [6., 7.]])\n",
      "size : torch.Size([2, 2])\n"
     ]
    }
   ],
   "source": [
    "# tensor + scalar\n",
    "x = torch.FloatTensor([[1,2],[3,4]])\n",
    "y = 1\n",
    "z = x+y\n",
    "print(f'x+y : {z}')\n",
    "print(f'size : {z.size()}')\n",
    "\n",
    "print('='*50)\n",
    "\n",
    "# tensor + vector \n",
    "x1 = torch.FloatTensor([[1,2],[4,8]]) # 2*2\n",
    "y1 = torch.FloatTensor([3, 5]) # 1*2\n",
    "z1 = x1+y1\n",
    "\n",
    "print(f'x1+y1 : {z1}')\n",
    "print(f'size : {z.size()}')\n",
    "\n",
    "print('='*50)\n",
    "\n",
    "# tensor + tensor \n",
    "x2 = torch.FloatTensor([[1,2]]) # 1*2\n",
    "y2 = torch.FloatTensor([[3],[5]]) # 2*1\n",
    "z2 = x2+y2\n",
    "print(f'x2+y2 : {z2}')\n",
    "print(f'size : {z2.size()}')\n",
    "\n"
   ]
  },
  {
   "attachments": {},
   "cell_type": "markdown",
   "metadata": {},
   "source": [
    "텐서 형태 변환"
   ]
  },
  {
   "cell_type": "code",
   "execution_count": 102,
   "metadata": {},
   "outputs": [
    {
     "name": "stdout",
     "output_type": "stream",
     "text": [
      "size : torch.Size([3, 2, 2])\n",
      "\n",
      "\n",
      "tensor([[[ 1.,  2.],\n",
      "         [ 3.,  4.]],\n",
      "\n",
      "        [[ 5.,  6.],\n",
      "         [ 7.,  8.]],\n",
      "\n",
      "        [[ 9., 10.],\n",
      "         [11., 12.]]])\n",
      "tensor([ 1.,  2.,  3.,  4.,  5.,  6.,  7.,  8.,  9., 10., 11., 12.])\n",
      "tensor([[ 1.,  2.,  3.,  4.],\n",
      "        [ 5.,  6.,  7.,  8.],\n",
      "        [ 9., 10., 11., 12.]])\n",
      "tensor([[[ 1.,  2.,  3.,  4.]],\n",
      "\n",
      "        [[ 5.,  6.,  7.,  8.]],\n",
      "\n",
      "        [[ 9., 10., 11., 12.]]])\n",
      "tensor([[[ 1.,  2.],\n",
      "         [ 3.,  4.]],\n",
      "\n",
      "        [[ 5.,  6.],\n",
      "         [ 7.,  8.]],\n",
      "\n",
      "        [[ 9., 10.],\n",
      "         [11., 12.]]])\n",
      "tensor([[ 1.,  2.,  3.,  4.],\n",
      "        [ 5.,  6.,  7.,  8.],\n",
      "        [ 9., 10., 11., 12.]])\n",
      "tensor([[ 1.,  2.,  3.],\n",
      "        [ 4.,  5.,  6.],\n",
      "        [ 7.,  8.,  9.],\n",
      "        [10., 11., 12.]])\n"
     ]
    }
   ],
   "source": [
    "# view 함수 \n",
    "\n",
    "x = torch.FloatTensor([[[1,2],\n",
    "                        [3,4]],\n",
    "                        [[5,6],\n",
    "                        [7,8]],\n",
    "                        [[9,10],\n",
    "                        [11,12]]])\n",
    "print(f'size : {x.size()}')\n",
    "print('\\n')\n",
    "print(x)\n",
    "print(x.view(12)) # 1*12 = 12\n",
    "print(x.view(3,4)) # 3*4 = 12\n",
    "print(x.view(3,1,4)) # (1*4) * 3 = 12\n",
    "print(x.view(3,2,2)) # (2*2) * 3 = 12\n",
    "\n",
    "# -1 을 활용하면 곱하고 남은 필요한 값을 자동으로 채워줌 \n",
    "print(x.view(3,-1)) \n",
    "print(x.view(4,-1))"
   ]
  },
  {
   "attachments": {},
   "cell_type": "markdown",
   "metadata": {},
   "source": [
    "Squeeze 함수 : 차원 삭제 "
   ]
  },
  {
   "cell_type": "code",
   "execution_count": 117,
   "metadata": {},
   "outputs": [
    {
     "name": "stdout",
     "output_type": "stream",
     "text": [
      "tensor([[[1., 2.],\n",
      "         [3., 4.]]])\n",
      "tensor([[1., 2.],\n",
      "        [3., 4.]])\n",
      "Before : torch.Size([1, 2, 2]) -> After : torch.Size([2, 2])\n",
      "====================================================================================================\n",
      "torch.Size([2, 2])\n",
      "torch.Size([1, 2, 2])\n"
     ]
    }
   ],
   "source": [
    "x = torch.FloatTensor([[[1,2],\n",
    "                        [3,4]]])\n",
    "\n",
    "print(x)\n",
    "#print(x.size())\n",
    "\n",
    "print(x.squeeze())\n",
    "#print(x.squeeze().size())\n",
    "\n",
    "print(f'Before : {x.size()} -> After : {x.squeeze().size()}')\n",
    "\n",
    "print('='*100)\n",
    "\n",
    "print(x.squeeze(0).size())\n",
    "print(x.squeeze(1).size())"
   ]
  },
  {
   "attachments": {},
   "cell_type": "markdown",
   "metadata": {},
   "source": [
    "Unsqueeze 함수 : 차원 삽입"
   ]
  },
  {
   "cell_type": "code",
   "execution_count": 125,
   "metadata": {},
   "outputs": [
    {
     "name": "stdout",
     "output_type": "stream",
     "text": [
      "torch.Size([2, 2])\n",
      "torch.Size([2, 1, 2])\n",
      "torch.Size([2, 2, 1])\n",
      "torch.Size([2, 2, 1])\n",
      "torch.Size([2, 2, 1])\n"
     ]
    }
   ],
   "source": [
    "x = torch.FloatTensor([[1,2],\n",
    "                        [3,4]])\n",
    "print(x.size())\n",
    "\n",
    "print(x.unsqueeze(1).size())\n",
    "print(x.unsqueeze(-1).size())\n",
    "print(x.unsqueeze(2).size())\n",
    "# reshape 함수로 똑같이 구현가능 \n",
    "print(x.reshape(2, 2, -1).size())\n",
    "\n"
   ]
  },
  {
   "attachments": {},
   "cell_type": "markdown",
   "metadata": {},
   "source": [
    "텐서 자르기&붙이기"
   ]
  },
  {
   "cell_type": "code",
   "execution_count": 143,
   "metadata": {},
   "outputs": [
    {
     "name": "stdout",
     "output_type": "stream",
     "text": [
      "<built-in method size of Tensor object at 0x00000275FD5FEC40>\n",
      "tensor([[[ 1.,  2.],\n",
      "         [ 3.,  4.]],\n",
      "\n",
      "        [[ 5.,  6.],\n",
      "         [ 7.,  8.]],\n",
      "\n",
      "        [[ 9., 10.],\n",
      "         [11., 12.]]])\n",
      "x[0] : \n",
      "tensor([[1., 2.],\n",
      "        [3., 4.]])\n",
      "x[-1]) : \n",
      "tensor([[ 9., 10.],\n",
      "        [11., 12.]])\n",
      "x[:,0] : \n",
      "tensor([[ 1.,  2.],\n",
      "        [ 5.,  6.],\n",
      "        [ 9., 10.]])\n"
     ]
    }
   ],
   "source": [
    "# indexing/slicing 함수\n",
    "x = torch.FloatTensor([[[1,2],\n",
    "                        [3,4]],\n",
    "                        [[5,6],\n",
    "                        [7,8]],\n",
    "                        [[9,10],\n",
    "                        [11,12]]])\n",
    "\n",
    "print(x.size)\n",
    "print(x)\n",
    "\n",
    "print(f'x[0] : \\n{x[0]}')\n",
    "print(f'x[-1]) : \\n{x[-1]}')\n",
    "\n",
    "print(f'x[:,0] : \\n{x[:,0]}')"
   ]
  },
  {
   "cell_type": "code",
   "execution_count": 153,
   "metadata": {},
   "outputs": [
    {
     "name": "stdout",
     "output_type": "stream",
     "text": [
      "before : \n",
      "tensor([[9.9184e-39, 9.0000e-39, 1.0561e-38, 1.0653e-38],\n",
      "        [4.1327e-39, 8.9082e-39, 9.8265e-39, 9.4592e-39],\n",
      "        [1.0561e-38, 1.0653e-38, 1.0469e-38, 9.5510e-39],\n",
      "        [9.1837e-39, 1.0561e-38, 1.0469e-38, 9.0000e-39],\n",
      "        [1.0653e-38, 1.0194e-38, 1.0561e-38, 8.7245e-39],\n",
      "        [1.0286e-38, 9.0919e-39, 9.0919e-39, 9.2755e-39],\n",
      "        [8.7245e-39, 9.9184e-39, 9.4592e-39, 1.0561e-38],\n",
      "        [9.6429e-39, 8.7245e-39, 1.0194e-38, 1.0010e-38],\n",
      "        [9.9184e-39, 9.0918e-39, 1.1112e-38, 9.5511e-39],\n",
      "        [1.0102e-38, 4.6837e-39, 4.2245e-39, 1.1112e-38]])\n",
      "After : \n",
      "(tensor([[9.9184e-39, 9.0000e-39, 1.0561e-38, 1.0653e-38],\n",
      "        [4.1327e-39, 8.9082e-39, 9.8265e-39, 9.4592e-39],\n",
      "        [1.0561e-38, 1.0653e-38, 1.0469e-38, 9.5510e-39],\n",
      "        [9.1837e-39, 1.0561e-38, 1.0469e-38, 9.0000e-39]]), tensor([[1.0653e-38, 1.0194e-38, 1.0561e-38, 8.7245e-39],\n",
      "        [1.0286e-38, 9.0919e-39, 9.0919e-39, 9.2755e-39],\n",
      "        [8.7245e-39, 9.9184e-39, 9.4592e-39, 1.0561e-38],\n",
      "        [9.6429e-39, 8.7245e-39, 1.0194e-38, 1.0010e-38]]), tensor([[9.9184e-39, 9.0918e-39, 1.1112e-38, 9.5511e-39],\n",
      "        [1.0102e-38, 4.6837e-39, 4.2245e-39, 1.1112e-38]]))\n",
      "torch.Size([4, 4])\n",
      "torch.Size([4, 4])\n",
      "torch.Size([2, 4])\n"
     ]
    }
   ],
   "source": [
    "# split 함수 : 특정 차원에 대해 원하는 크기로 잘라줌 \n",
    " \n",
    "x = torch.FloatTensor(10, 4) # 10*4\n",
    "print(f'before : \\n{x}')\n",
    "print(f'After : \\n{x.split(4,dim=0)}')\n",
    "\n",
    "splits = x.split(4, dim=0)\n",
    "for s in splits:\n",
    "    print(s.size())\n"
   ]
  },
  {
   "cell_type": "code",
   "execution_count": 157,
   "metadata": {},
   "outputs": [
    {
     "name": "stdout",
     "output_type": "stream",
     "text": [
      "before : \n",
      "tensor([[1.4013e-43, 4.4842e-44, 1.6255e-43, 1.4714e-43],\n",
      "        [1.5274e-43, 1.4153e-43, 4.4842e-44, 1.3593e-43],\n",
      "        [1.5414e-43, 1.4013e-43, 4.4842e-44, 1.5134e-43],\n",
      "        [1.4714e-43, 1.5414e-43, 1.4153e-43, 4.4842e-44],\n",
      "        [1.3873e-43, 1.5554e-43, 1.6395e-43, 1.5414e-43],\n",
      "        [1.6255e-43, 5.7453e-44, 1.4013e-44, 4.4842e-44],\n",
      "        [4.4842e-44, 4.4842e-44, 4.4842e-44, 4.4842e-44],\n",
      "        [4.4842e-44, 4.4842e-44, 4.4842e-44, 4.4842e-44]])\n",
      "After : \n",
      "(tensor([[1.4013e-43, 4.4842e-44, 1.6255e-43, 1.4714e-43],\n",
      "        [1.5274e-43, 1.4153e-43, 4.4842e-44, 1.3593e-43],\n",
      "        [1.5414e-43, 1.4013e-43, 4.4842e-44, 1.5134e-43]]), tensor([[1.4714e-43, 1.5414e-43, 1.4153e-43, 4.4842e-44],\n",
      "        [1.3873e-43, 1.5554e-43, 1.6395e-43, 1.5414e-43],\n",
      "        [1.6255e-43, 5.7453e-44, 1.4013e-44, 4.4842e-44]]), tensor([[4.4842e-44, 4.4842e-44, 4.4842e-44, 4.4842e-44],\n",
      "        [4.4842e-44, 4.4842e-44, 4.4842e-44, 4.4842e-44]]))\n",
      "torch.Size([3, 4])\n",
      "torch.Size([3, 4])\n",
      "torch.Size([2, 4])\n"
     ]
    }
   ],
   "source": [
    "# Chunk 함수 : 크기에 상관 없이 원하는 개수로 나눔\n",
    "\n",
    "x = torch.FloatTensor(8,4) # 8*4\n",
    "print(f'before : \\n{x}')\n",
    "print(f'After : \\n{x.chunk(3,dim=0)}')\n",
    "\n",
    "\n",
    "chunks = x.chunk(3, dim=0) \n",
    "for c in chunks:\n",
    "    print(c.size())\n"
   ]
  },
  {
   "cell_type": "code",
   "execution_count": 169,
   "metadata": {},
   "outputs": [
    {
     "name": "stdout",
     "output_type": "stream",
     "text": [
      "tensor([[[1., 1.],\n",
      "         [2., 2.]],\n",
      "\n",
      "        [[3., 3.],\n",
      "         [4., 4.]],\n",
      "\n",
      "        [[5., 5.],\n",
      "         [6., 6.]]])\n",
      "torch.Size([3, 2, 2])\n",
      "====================================================================================================\n",
      "tensor([[[5., 5.],\n",
      "         [6., 6.]],\n",
      "\n",
      "        [[3., 3.],\n",
      "         [4., 4.]]])\n",
      "torch.Size([2, 2, 2])\n"
     ]
    }
   ],
   "source": [
    "# index Select 함수 \n",
    "x = torch.FloatTensor([[[1,1],\n",
    "                        [2,2]],\n",
    "                        [[3,3],\n",
    "                        [4,4]],\n",
    "                        [[5,5],\n",
    "                        [6,6]]])\n",
    "print(x)\n",
    "print(x.size())                        \n",
    "print('='*100)\n",
    "\n",
    "indice = torch.LongTensor([2,1])\n",
    "y = x.index_select(dim=0, index=indice)\n",
    "print(y)\n",
    "print(y.size())"
   ]
  },
  {
   "cell_type": "code",
   "execution_count": 178,
   "metadata": {},
   "outputs": [
    {
     "name": "stdout",
     "output_type": "stream",
     "text": [
      "torch.Size([3, 3]) torch.Size([3, 3])\n",
      "tensor([[ 1.,  2.,  3.],\n",
      "        [ 4.,  5.,  6.],\n",
      "        [ 7.,  8.,  9.],\n",
      "        [10., 11., 12.],\n",
      "        [13., 14., 15.],\n",
      "        [16., 17., 18.]])\n",
      "torch.Size([6, 3])\n",
      "====================================================================================================\n",
      "tensor([[ 1.,  2.,  3., 10., 11., 12.],\n",
      "        [ 4.,  5.,  6., 13., 14., 15.],\n",
      "        [ 7.,  8.,  9., 16., 17., 18.]])\n",
      "torch.Size([3, 6])\n"
     ]
    }
   ],
   "source": [
    "# Concatenate 함수 : 차원의 크기가 같아야함 \n",
    "x = torch.FloatTensor([[1,2,3],\n",
    "                       [4,5,6],\n",
    "                       [7,8,9]])\n",
    "\n",
    "y = torch.FloatTensor([[10,11,12],\n",
    "                       [13,14,15],\n",
    "                       [16,17,18]])\n",
    "\n",
    "print(x.size(), y.size())\n",
    "                       \n",
    "z1 = torch.cat([x,y], dim=0) # dim=0 : 세로 \n",
    "print(z1)\n",
    "print(z1.size())\n",
    "\n",
    "print('='*100)\n",
    "\n",
    "z2 = torch.cat([x,y], dim=-1) # dim=-1 : 마지막 차원으로 텐서를 이어 붙임 \n",
    "print(z2)\n",
    "print(z2.size())"
   ]
  },
  {
   "cell_type": "code",
   "execution_count": 190,
   "metadata": {},
   "outputs": [
    {
     "name": "stdout",
     "output_type": "stream",
     "text": [
      "torch.Size([3, 3])\n",
      "torch.Size([3, 3])\n",
      "====================================================================================================\n",
      "tensor([[[ 1.,  2.,  3.],\n",
      "         [ 4.,  5.,  6.],\n",
      "         [ 7.,  8.,  9.]],\n",
      "\n",
      "        [[10., 11., 12.],\n",
      "         [13., 14., 15.],\n",
      "         [16., 17., 18.]]])\n",
      "torch.Size([2, 3, 3])\n",
      "====================================================================================================\n",
      "tensor([[[ 1., 10.],\n",
      "         [ 2., 11.],\n",
      "         [ 3., 12.]],\n",
      "\n",
      "        [[ 4., 13.],\n",
      "         [ 5., 14.],\n",
      "         [ 6., 15.]],\n",
      "\n",
      "        [[ 7., 16.],\n",
      "         [ 8., 17.],\n",
      "         [ 9., 18.]]])\n",
      "torch.Size([3, 3, 2])\n"
     ]
    }
   ],
   "source": [
    "# Stack 함수 \n",
    "print(x.size())\n",
    "print(y.size())\n",
    "\n",
    "print('='*100)\n",
    "\n",
    "z = torch.stack([x,y]) # 세로로 쌓기 \n",
    "print(z)\n",
    "print(z.size())\n",
    "\n",
    "print('='*100)\n",
    "\n",
    "z1 = torch.stack([x,y], dim=-1) \n",
    "print(z1)\n",
    "print(z1.size())"
   ]
  },
  {
   "attachments": {},
   "cell_type": "markdown",
   "metadata": {},
   "source": [
    "유용한 함수들 "
   ]
  },
  {
   "cell_type": "code",
   "execution_count": 196,
   "metadata": {},
   "outputs": [
    {
     "name": "stdout",
     "output_type": "stream",
     "text": [
      "tensor([[[1., 2.]],\n",
      "\n",
      "        [[3., 4.]]])\n",
      "x.size : torch.Size([2, 1, 2])\n",
      "tensor([[[1., 2.],\n",
      "         [1., 2.],\n",
      "         [1., 2.]],\n",
      "\n",
      "        [[3., 4.],\n",
      "         [3., 4.],\n",
      "         [3., 4.]]])\n",
      "y.size : torch.Size([2, 3, 2])\n"
     ]
    }
   ],
   "source": [
    "# Expand 함수 : 차원의 크기를 늘려줌\n",
    "\n",
    "x = torch.FloatTensor([[[1,2]],\n",
    "                       [[3,4]]])\n",
    "print(x)\n",
    "print(f'x.size : {x.size()}')\n",
    "\n",
    "y = x.expand(2,3,2)\n",
    "print(y)\n",
    "print(f'y.size : {y.size()}')"
   ]
  },
  {
   "cell_type": "code",
   "execution_count": 198,
   "metadata": {},
   "outputs": [
    {
     "name": "stdout",
     "output_type": "stream",
     "text": [
      "tensor([9, 4, 8, 1, 2, 7, 3, 5, 6, 0])\n",
      "torch.Size([10])\n"
     ]
    }
   ],
   "source": [
    "# Random Permutation 함수 : 랜덤 수열 생성 함수 \n",
    "x = torch.randperm(10)\n",
    "print(x)\n",
    "\n",
    "print(x.size())"
   ]
  },
  {
   "cell_type": "code",
   "execution_count": 211,
   "metadata": {},
   "outputs": [
    {
     "name": "stdout",
     "output_type": "stream",
     "text": [
      "tensor([[[ 2,  0, 21],\n",
      "         [17, 24,  3],\n",
      "         [16, 22,  9]],\n",
      "\n",
      "        [[25, 19, 14],\n",
      "         [10,  8, 13],\n",
      "         [20,  6,  5]],\n",
      "\n",
      "        [[ 7,  1, 23],\n",
      "         [26, 12, 18],\n",
      "         [11,  4, 15]]])\n",
      "torch.Size([3, 3, 3])\n",
      "tensor([[2, 1, 1],\n",
      "        [0, 2, 0],\n",
      "        [2, 0, 2]])\n",
      "torch.Size([3, 3])\n"
     ]
    }
   ],
   "source": [
    "# Argument Max 함수 : 가장 큰 값 인덱스 추출 \n",
    "x = torch.randperm(3**3).reshape(3,3,-1)\n",
    "print(x)\n",
    "print(x.size())\n",
    "\n",
    "y = x.argmax(dim=-1)\n",
    "print(y)\n",
    "print(y.size())\n"
   ]
  },
  {
   "cell_type": "code",
   "execution_count": 228,
   "metadata": {},
   "outputs": [
    {
     "name": "stdout",
     "output_type": "stream",
     "text": [
      "tensor([[[21],\n",
      "         [24],\n",
      "         [22]],\n",
      "\n",
      "        [[25],\n",
      "         [13],\n",
      "         [20]],\n",
      "\n",
      "        [[23],\n",
      "         [26],\n",
      "         [15]]])\n",
      "torch.Size([3, 3, 1])\n",
      "tensor([[[2],\n",
      "         [1],\n",
      "         [1]],\n",
      "\n",
      "        [[0],\n",
      "         [2],\n",
      "         [0]],\n",
      "\n",
      "        [[2],\n",
      "         [0],\n",
      "         [2]]])\n",
      "torch.Size([3, 3, 1])\n",
      "torch.Size([3, 3, 2])\n"
     ]
    }
   ],
   "source": [
    "# Top-k 함수 : argmax 와 비슷, 가장 큰 k개의 값과 인덱스를 모두 반환 \n",
    "\n",
    "values, indices = torch.topk(x, k=1, dim=-1)\n",
    "print(values) # 값 반환\n",
    "print(values.size())\n",
    "print(indices) # 인덱스 반환 \n",
    "print(indices.size())\n",
    "\n",
    "_, indices = torch.topk(x, k=2, dim=-1)\n",
    "print(indices.size())"
   ]
  },
  {
   "cell_type": "code",
   "execution_count": 233,
   "metadata": {},
   "outputs": [
    {
     "name": "stdout",
     "output_type": "stream",
     "text": [
      "tensor([[[ 2,  0, 21],\n",
      "         [17, 24,  3],\n",
      "         [16, 22,  9]],\n",
      "\n",
      "        [[25, 19, 14],\n",
      "         [10,  8, 13],\n",
      "         [20,  6,  5]],\n",
      "\n",
      "        [[ 7,  1, 23],\n",
      "         [26, 12, 18],\n",
      "         [11,  4, 15]]])\n",
      "torch.return_types.sort(\n",
      "values=tensor([[[ 0,  2, 21],\n",
      "         [ 3, 17, 24],\n",
      "         [ 9, 16, 22]],\n",
      "\n",
      "        [[14, 19, 25],\n",
      "         [ 8, 10, 13],\n",
      "         [ 5,  6, 20]],\n",
      "\n",
      "        [[ 1,  7, 23],\n",
      "         [12, 18, 26],\n",
      "         [ 4, 11, 15]]]),\n",
      "indices=tensor([[[1, 0, 2],\n",
      "         [2, 0, 1],\n",
      "         [2, 0, 1]],\n",
      "\n",
      "        [[2, 1, 0],\n",
      "         [1, 0, 2],\n",
      "         [2, 1, 0]],\n",
      "\n",
      "        [[1, 0, 2],\n",
      "         [1, 2, 0],\n",
      "         [1, 0, 2]]]))\n"
     ]
    }
   ],
   "source": [
    "# Sort 함수 : 정렬함수 \n",
    "print(x)\n",
    "\n",
    "x_sort = x.sort()\n",
    "print(x_sort)"
   ]
  },
  {
   "cell_type": "code",
   "execution_count": 239,
   "metadata": {},
   "outputs": [
    {
     "name": "stdout",
     "output_type": "stream",
     "text": [
      "tensor([[0., 1., 2.],\n",
      "        [3., 4., 5.],\n",
      "        [6., 7., 8.]])\n",
      "torch.Size([3, 3])\n",
      "tensor([[False, False, False],\n",
      "        [False, False,  True],\n",
      "        [ True,  True,  True]])\n",
      "tensor([[ 0.,  1.,  2.],\n",
      "        [ 3.,  4., -1.],\n",
      "        [-1., -1., -1.]])\n"
     ]
    }
   ],
   "source": [
    "# Masked Fill 함수 : 텐서 내의 원하는 부분만 특정 값으로 바꿈 \n",
    "x = torch.FloatTensor([i for i in range(3**2)]).reshape(3,-1)\n",
    "print(x)\n",
    "print(x.size())\n",
    "\n",
    "# 논리연산자 \n",
    "mask = x>4 # Boolean tensor 로 변환 \n",
    "print(mask)\n",
    "\n",
    "y = x.masked_fill(mask, value=-1) # 4보다 큰 값을 -1로 바꿈 \n",
    "print(y)"
   ]
  },
  {
   "cell_type": "code",
   "execution_count": 243,
   "metadata": {},
   "outputs": [
    {
     "name": "stdout",
     "output_type": "stream",
     "text": [
      "tensor([[1., 1., 1.],\n",
      "        [1., 1., 1.]])\n",
      "tensor([[0., 0., 0.],\n",
      "        [0., 0., 0.]])\n",
      "tensor([[1., 1., 1.],\n",
      "        [1., 1., 1.]])\n",
      "tensor([[0., 0., 0.],\n",
      "        [0., 0., 0.]])\n"
     ]
    }
   ],
   "source": [
    "# Ones & Zeros 함수 \n",
    "print(torch.ones(2,3))\n",
    "print(torch.zeros(2,3))\n",
    "\n",
    "x = torch.FloatTensor([[1,2,3], [4,5,6]])\n",
    "\n",
    "# Ones_like & Zeros_like 를 통해 특정 텐서와 같은 크기의 0&1 텐서 만들기 가능 \n",
    "print(torch.ones_like(x))\n",
    "print(torch.zeros_like(x))"
   ]
  }
 ],
 "metadata": {
  "kernelspec": {
   "display_name": "dl",
   "language": "python",
   "name": "python3"
  },
  "language_info": {
   "codemirror_mode": {
    "name": "ipython",
    "version": 3
   },
   "file_extension": ".py",
   "mimetype": "text/x-python",
   "name": "python",
   "nbconvert_exporter": "python",
   "pygments_lexer": "ipython3",
   "version": "3.8.15 (default, Nov 24 2022, 14:38:14) [MSC v.1916 64 bit (AMD64)]"
  },
  "orig_nbformat": 4,
  "vscode": {
   "interpreter": {
    "hash": "8d53016de1ba688087103bdb1d336e55aee453f16599935fdd23fb9d497997ad"
   }
  }
 },
 "nbformat": 4,
 "nbformat_minor": 2
}
