{
 "cells": [
  {
   "attachments": {},
   "cell_type": "markdown",
   "metadata": {},
   "source": [
    "# WorkFlow\n",
    "1. 문제 정의\n",
    "    - 단계 나누고 simplify\n",
    "    - x 와 y 정의 \n",
    "2. 데이터 수집 \n",
    "    - 문제 정의에 따른 수집\n",
    "    - 필요에 따라 레이블링 \n",
    "3. 데이터 전처리 및 분석\n",
    "    - 형태를 가공\n",
    "    - 필요에 따라 EDA 수행\n",
    "4. 알고리즘 적용\n",
    "    - 가설을 세우고 구현/적용\n",
    "5. 평가 \n",
    "    - 실험 설계 \n",
    "    - 테스트셋 구성 \n",
    "6. 배포\n",
    "    - RESTful API를 통한 배포 \n",
    "    - 상황에 따라 유지/보수 "
   ]
  },
  {
   "attachments": {},
   "cell_type": "markdown",
   "metadata": {},
   "source": [
    "# 1. 문제정의 \n",
    "\n",
    "손글씨 숫자를 인식하는 함수 f*를 근사계산 하려 한다. \n",
    "\n",
    "따라서 근사계산한 모델 함수는 이미지를 입력받아 숫자 레이블을 출력하도록 구성 할 것이다. \n",
    "\n",
    "사용 할 MNIST 데이터셋은 28*28개의 0~255 범위의 흑백 픽셀로 구성되어 있다. \n",
    "\n",
    "따라서 우리가 만들 함수의 입력은 784차원의 벡터가 되고, 출력은 각 숫자 클래스별 확률값이 되도록 구현한다."
   ]
  },
  {
   "attachments": {},
   "cell_type": "markdown",
   "metadata": {},
   "source": [
    "# 2. 데이터 수집\n",
    "\n",
    "MNIST 데이터셋은 레이블링 작업이 되어있다. "
   ]
  },
  {
   "attachments": {},
   "cell_type": "markdown",
   "metadata": {},
   "source": [
    "# 3. 데이터 전처리 \n",
    "\n",
    "기존학습 데이터셋 60000 장을 8:2로 나누고, 테스트 데이터 10,000장은 그대로 사용한다. \n",
    "\n",
    "train : 48,000 장\n",
    "\n",
    "validation : 12,000 장\n",
    "\n",
    "test : 10,000 장 \n",
    "\n",
    "으로 데이터셋 분할을 진행해준다. "
   ]
  },
  {
   "attachments": {},
   "cell_type": "markdown",
   "metadata": {},
   "source": [
    "# 4. 알고리즘 적용 \n",
    "데이터 전처리 과정을 통해 파악한 데이터의 성질, 분포를 바탕으로 알맞은 가설 설정과 알고리즘 구현을 해야함"
   ]
  },
  {
   "attachments": {},
   "cell_type": "markdown",
   "metadata": {},
   "source": [
    "# 5. 평가\n",
    "\n",
    "객관적인 평가 뿐 아니라 모델의 성능 개선을 위해서도 적절한 평가가 수행되어야 함\n",
    "\n",
    "평과 결과에 따라 언더피팅이 의심 될 경우 모델의 수용 능력을 키우는 방향으로 하이퍼 파라미터를 튜닝하고,\n",
    "\n",
    "오버피팅으로 인한 일반화 성능 저하가 우려될 때는 정규화 기법을 강화하는 방향으로 튜닝하면서\n",
    "\n",
    "학습과 평가를 반복 수행해야한다. "
   ]
  },
  {
   "attachments": {},
   "cell_type": "markdown",
   "metadata": {},
   "source": [
    "# 6. 배포\n",
    "이번 코드에선 배포를 위한 시각화를 사용 "
   ]
  }
 ],
 "metadata": {
  "kernelspec": {
   "display_name": "dl",
   "language": "python",
   "name": "python3"
  },
  "language_info": {
   "codemirror_mode": {
    "name": "ipython",
    "version": 3
   },
   "file_extension": ".py",
   "mimetype": "text/x-python",
   "name": "python",
   "nbconvert_exporter": "python",
   "pygments_lexer": "ipython3",
   "version": "3.8.15 (default, Nov 24 2022, 14:38:14) [MSC v.1916 64 bit (AMD64)]"
  },
  "orig_nbformat": 4,
  "vscode": {
   "interpreter": {
    "hash": "8d53016de1ba688087103bdb1d336e55aee453f16599935fdd23fb9d497997ad"
   }
  }
 },
 "nbformat": 4,
 "nbformat_minor": 2
}
