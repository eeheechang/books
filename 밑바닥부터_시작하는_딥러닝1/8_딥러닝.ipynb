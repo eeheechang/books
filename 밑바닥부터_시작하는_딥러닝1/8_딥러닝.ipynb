{
 "cells": [
  {
   "attachments": {},
   "cell_type": "markdown",
   "metadata": {},
   "source": [
    "# 밑바닥부터 시작하는 딥러닝 (261p~)\n",
    "### 딥러닝"
   ]
  },
  {
   "attachments": {},
   "cell_type": "markdown",
   "metadata": {},
   "source": [
    "What is the class of this image? 홈페이지 \n",
    "> https://rodrigob.github.io/are_we_there_yet/build/classification_datasets_results.html\n",
    "\n",
    "Trending Research \n",
    "> https://paperswithcode.com/"
   ]
  },
  {
   "attachments": {},
   "cell_type": "markdown",
   "metadata": {},
   "source": [
    "VGG : 합성곱 계층과 풀링 계층으로 구성되는 기본적인 CNN \n",
    "\n",
    "- 층에 깊이에 따라 VGG16 과 VGG19로 구분 "
   ]
  },
  {
   "attachments": {},
   "cell_type": "markdown",
   "metadata": {},
   "source": [
    "ResNet : 지나치게 깊은 층으로 인해 학습률과 성능이 저하되는 경우도 있어서 *skip connection* 을 도입\n",
    "\n",
    "- Skip connection 으로 인해 층의 깊이에 비례해 성능을 향상시킬 수 있다 ( 그래도 과하면 안돼 )"
   ]
  },
  {
   "attachments": {},
   "cell_type": "markdown",
   "metadata": {},
   "source": [
    "### 딥러닝 가속화 \n",
    "\n",
    "1. CPU -> GPU\n",
    "\n",
    "2. 분산학습 \n",
    "\n",
    "3. 연산 정밀도와 비트 줄이기 "
   ]
  },
  {
   "attachments": {},
   "cell_type": "markdown",
   "metadata": {},
   "source": [
    "### 딥러닝의 활용 \n",
    "\n",
    "1. Object Detection ( 사물 검출 ) \n",
    "\n",
    "2. Segmentation ( 분할 ) "
   ]
  }
 ],
 "metadata": {
  "kernelspec": {
   "display_name": "dl",
   "language": "python",
   "name": "python3"
  },
  "language_info": {
   "codemirror_mode": {
    "name": "ipython",
    "version": 3
   },
   "file_extension": ".py",
   "mimetype": "text/x-python",
   "name": "python",
   "nbconvert_exporter": "python",
   "pygments_lexer": "ipython3",
   "version": "3.8.15"
  },
  "orig_nbformat": 4,
  "vscode": {
   "interpreter": {
    "hash": "8d53016de1ba688087103bdb1d336e55aee453f16599935fdd23fb9d497997ad"
   }
  }
 },
 "nbformat": 4,
 "nbformat_minor": 2
}
