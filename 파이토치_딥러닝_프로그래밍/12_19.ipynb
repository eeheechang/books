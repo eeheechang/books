{
 "cells": [
  {
   "cell_type": "code",
   "execution_count": 19,
   "metadata": {},
   "outputs": [],
   "source": [
    "import numpy as np\n",
    "import matplotlib.pyplot as plt\n",
    "import torch\n",
    "\n"
   ]
  },
  {
   "cell_type": "code",
   "execution_count": 20,
   "metadata": {},
   "outputs": [
    {
     "name": "stdout",
     "output_type": "stream",
     "text": [
      "[[166.   59.7]\n",
      " [176.   75.7]\n",
      " [171.   62.1]\n",
      " [173.   70.4]\n",
      " [169.   60.1]]\n"
     ]
    },
    {
     "data": {
      "image/png": "[encoded data removed]",
      "text/plain": [
       "<Figure size 640x480 with 1 Axes>"
      ]
     },
     "metadata": {},
     "output_type": "display_data"
    }
   ],
   "source": [
    "sampleData1 = np.array([\n",
    "    [166, 59.7],\n",
    "    [176.0, 75.7],\n",
    "    [171.0, 62.1],\n",
    "    [173.0, 70.4],\n",
    "    [169.0, 60.1]\n",
    "])\n",
    "\n",
    "print(sampleData1)\n",
    "\n",
    "x = sampleData1[:,0]\n",
    "y = sampleData1[:,1]\n",
    "\n",
    "plt.scatter(x, y, c='k', s=50)\n",
    "plt.xlabel('cm')\n",
    "plt.ylabel('kg')\n",
    "plt.show()"
   ]
  },
  {
   "cell_type": "code",
   "execution_count": 21,
   "metadata": {},
   "outputs": [
    {
     "data": {
      "image/png": "[encoded data removed]",
      "text/plain": [
       "<Figure size 640x480 with 1 Axes>"
      ]
     },
     "metadata": {},
     "output_type": "display_data"
    }
   ],
   "source": [
    "X = x-x.mean()\n",
    "Y = y-y.mean()\n",
    "\n",
    "plt.scatter(X, Y, c='k', s=50)\n",
    "plt.show()"
   ]
  },
  {
   "cell_type": "code",
   "execution_count": 22,
   "metadata": {},
   "outputs": [
    {
     "name": "stdout",
     "output_type": "stream",
     "text": [
      "tensor([-5.,  5.,  0.,  2., -2.]) tensor([-5.9000, 10.1000, -3.5000,  4.8000, -5.5000])\n",
      "tensor(1., requires_grad=True) tensor(1., requires_grad=True)\n",
      "tensor([-4.,  6.,  1.,  3., -1.], grad_fn=<AddBackward0>)\n"
     ]
    }
   ],
   "source": [
    "X = torch.tensor(X).float()\n",
    "Y = torch.tensor(Y).float()\n",
    "print(X,Y)\n",
    "\n",
    "W = torch.tensor(1.0, requires_grad=True).float()\n",
    "B = torch.tensor(1.0, requires_grad=True).float()\n",
    "print(W,B)\n",
    "\n",
    "def pred(X):\n",
    "    return W*X+B\n",
    "Yp = pred(X)\n",
    "print(Yp)"
   ]
  },
  {
   "cell_type": "code",
   "execution_count": 23,
   "metadata": {},
   "outputs": [
    {
     "data": {
      "image/svg+xml": "<?xml version=\"1.0\" encoding=\"UTF-8\" standalone=\"no\"?>\n<!DOCTYPE svg PUBLIC \"-//W3C//DTD SVG 1.1//EN\"\n \"http://www.w3.org/Graphics/SVG/1.1/DTD/svg11.dtd\">\n<!-- Generated by graphviz version 2.46.1 (20210213.1702)\n -->\n<!-- Pages: 1 -->\n<svg width=\"222pt\" height=\"281pt\"\n viewBox=\"0.00 0.00 222.00 281.00\" xmlns=\"http://www.w3.org/2000/svg\" xmlns:xlink=\"http://www.w3.org/1999/xlink\">\n<g id=\"graph0\" class=\"graph\" transform=\"scale(1 1) rotate(0) translate(4 277)\">\n<polygon fill=\"white\" stroke=\"transparent\" points=\"-4,4 -4,-277 218,-277 218,4 -4,4\"/>\n<!-- 2419930020848 -->\n<g id=\"node1\" class=\"node\">\n<title>2419930020848</title>\n<polygon fill=\"#caff70\" stroke=\"black\" points=\"133.5,-31 79.5,-31 79.5,0 133.5,0 133.5,-31\"/>\n<text text-anchor=\"middle\" x=\"106.5\" y=\"-7\" font-family=\"monospace\" font-size=\"10.00\"> (5)</text>\n</g>\n<!-- 2419928916768 -->\n<g id=\"node2\" class=\"node\">\n<title>2419928916768</title>\n<polygon fill=\"lightgrey\" stroke=\"black\" points=\"151,-86 62,-86 62,-67 151,-67 151,-86\"/>\n<text text-anchor=\"middle\" x=\"106.5\" y=\"-74\" font-family=\"monospace\" font-size=\"10.00\">AddBackward0</text>\n</g>\n<!-- 2419928916768&#45;&gt;2419930020848 -->\n<g id=\"edge6\" class=\"edge\">\n<title>2419928916768&#45;&gt;2419930020848</title>\n<path fill=\"none\" stroke=\"black\" d=\"M106.5,-66.79C106.5,-60.07 106.5,-50.4 106.5,-41.34\"/>\n<polygon fill=\"black\" stroke=\"black\" points=\"110,-41.19 106.5,-31.19 103,-41.19 110,-41.19\"/>\n</g>\n<!-- 2419885512768 -->\n<g id=\"node3\" class=\"node\">\n<title>2419885512768</title>\n<polygon fill=\"lightgrey\" stroke=\"black\" points=\"95,-141 6,-141 6,-122 95,-122 95,-141\"/>\n<text text-anchor=\"middle\" x=\"50.5\" y=\"-129\" font-family=\"monospace\" font-size=\"10.00\">MulBackward0</text>\n</g>\n<!-- 2419885512768&#45;&gt;2419928916768 -->\n<g id=\"edge1\" class=\"edge\">\n<title>2419885512768&#45;&gt;2419928916768</title>\n<path fill=\"none\" stroke=\"black\" d=\"M59.5,-121.98C67.69,-114.23 80.01,-102.58 89.97,-93.14\"/>\n<polygon fill=\"black\" stroke=\"black\" points=\"92.48,-95.59 97.34,-86.17 87.67,-90.5 92.48,-95.59\"/>\n</g>\n<!-- 2419885507248 -->\n<g id=\"node4\" class=\"node\">\n<title>2419885507248</title>\n<polygon fill=\"lightgrey\" stroke=\"black\" points=\"101,-201.5 0,-201.5 0,-182.5 101,-182.5 101,-201.5\"/>\n<text text-anchor=\"middle\" x=\"50.5\" y=\"-189.5\" font-family=\"monospace\" font-size=\"10.00\">AccumulateGrad</text>\n</g>\n<!-- 2419885507248&#45;&gt;2419885512768 -->\n<g id=\"edge2\" class=\"edge\">\n<title>2419885507248&#45;&gt;2419885512768</title>\n<path fill=\"none\" stroke=\"black\" d=\"M50.5,-182.37C50.5,-174.25 50.5,-161.81 50.5,-151.39\"/>\n<polygon fill=\"black\" stroke=\"black\" points=\"54,-151.17 50.5,-141.17 47,-151.17 54,-151.17\"/>\n</g>\n<!-- 2419929684528 -->\n<g id=\"node5\" class=\"node\">\n<title>2419929684528</title>\n<polygon fill=\"lightblue\" stroke=\"black\" points=\"77.5,-273 23.5,-273 23.5,-243 77.5,-243 77.5,-273\"/>\n<text text-anchor=\"middle\" x=\"50.5\" y=\"-261\" font-family=\"monospace\" font-size=\"10.00\">W</text>\n<text text-anchor=\"middle\" x=\"50.5\" y=\"-250\" font-family=\"monospace\" font-size=\"10.00\"> ()</text>\n</g>\n<!-- 2419929684528&#45;&gt;2419885507248 -->\n<g id=\"edge3\" class=\"edge\">\n<title>2419929684528&#45;&gt;2419885507248</title>\n<path fill=\"none\" stroke=\"black\" d=\"M50.5,-242.8C50.5,-233.7 50.5,-221.79 50.5,-211.9\"/>\n<polygon fill=\"black\" stroke=\"black\" points=\"54,-211.84 50.5,-201.84 47,-211.84 54,-211.84\"/>\n</g>\n<!-- 2419885520832 -->\n<g id=\"node6\" class=\"node\">\n<title>2419885520832</title>\n<polygon fill=\"lightgrey\" stroke=\"black\" points=\"214,-141 113,-141 113,-122 214,-122 214,-141\"/>\n<text text-anchor=\"middle\" x=\"163.5\" y=\"-129\" font-family=\"monospace\" font-size=\"10.00\">AccumulateGrad</text>\n</g>\n<!-- 2419885520832&#45;&gt;2419928916768 -->\n<g id=\"edge4\" class=\"edge\">\n<title>2419885520832&#45;&gt;2419928916768</title>\n<path fill=\"none\" stroke=\"black\" d=\"M154.34,-121.98C146,-114.23 133.47,-102.58 123.32,-93.14\"/>\n<polygon fill=\"black\" stroke=\"black\" points=\"125.53,-90.42 115.82,-86.17 120.76,-95.54 125.53,-90.42\"/>\n</g>\n<!-- 2419884753680 -->\n<g id=\"node7\" class=\"node\">\n<title>2419884753680</title>\n<polygon fill=\"lightblue\" stroke=\"black\" points=\"190.5,-207 136.5,-207 136.5,-177 190.5,-177 190.5,-207\"/>\n<text text-anchor=\"middle\" x=\"163.5\" y=\"-195\" font-family=\"monospace\" font-size=\"10.00\">B</text>\n<text text-anchor=\"middle\" x=\"163.5\" y=\"-184\" font-family=\"monospace\" font-size=\"10.00\"> ()</text>\n</g>\n<!-- 2419884753680&#45;&gt;2419885520832 -->\n<g id=\"edge5\" class=\"edge\">\n<title>2419884753680&#45;&gt;2419885520832</title>\n<path fill=\"none\" stroke=\"black\" d=\"M163.5,-176.84C163.5,-169.21 163.5,-159.7 163.5,-151.45\"/>\n<polygon fill=\"black\" stroke=\"black\" points=\"167,-151.27 163.5,-141.27 160,-151.27 167,-151.27\"/>\n</g>\n</g>\n</svg>\n",
      "text/plain": [
       "<graphviz.graphs.Digraph at 0x2336f00d600>"
      ]
     },
     "metadata": {},
     "output_type": "display_data"
    }
   ],
   "source": [
    "from torchviz import make_dot\n",
    "\n",
    "params = {'W':W, 'B':B}\n",
    "g= make_dot(Yp, params=params)\n",
    "display(g)"
   ]
  },
  {
   "cell_type": "code",
   "execution_count": 24,
   "metadata": {},
   "outputs": [
    {
     "name": "stdout",
     "output_type": "stream",
     "text": [
      "tensor(12.8320, grad_fn=<MeanBackward0>)\n"
     ]
    }
   ],
   "source": [
    "def mse(Yp, Y):\n",
    "    loss = ((Yp-Y)**2).mean()\n",
    "    return loss\n",
    "\n",
    "loss = mse(Yp, Y)\n",
    "print(loss)"
   ]
  },
  {
   "cell_type": "code",
   "execution_count": 25,
   "metadata": {},
   "outputs": [
    {
     "data": {
      "image/svg+xml": "<?xml version=\"1.0\" encoding=\"UTF-8\" standalone=\"no\"?>\n<!DOCTYPE svg PUBLIC \"-//W3C//DTD SVG 1.1//EN\"\n \"http://www.w3.org/Graphics/SVG/1.1/DTD/svg11.dtd\">\n<!-- Generated by graphviz version 2.46.1 (20210213.1702)\n -->\n<!-- Pages: 1 -->\n<svg width=\"222pt\" height=\"446pt\"\n viewBox=\"0.00 0.00 222.00 446.00\" xmlns=\"http://www.w3.org/2000/svg\" xmlns:xlink=\"http://www.w3.org/1999/xlink\">\n<g id=\"graph0\" class=\"graph\" transform=\"scale(1 1) rotate(0) translate(4 442)\">\n<polygon fill=\"white\" stroke=\"transparent\" points=\"-4,4 -4,-442 218,-442 218,4 -4,4\"/>\n<!-- 2419929851808 -->\n<g id=\"node1\" class=\"node\">\n<title>2419929851808</title>\n<polygon fill=\"#caff70\" stroke=\"black\" points=\"133.5,-31 79.5,-31 79.5,0 133.5,0 133.5,-31\"/>\n<text text-anchor=\"middle\" x=\"106.5\" y=\"-7\" font-family=\"monospace\" font-size=\"10.00\"> ()</text>\n</g>\n<!-- 2419921468144 -->\n<g id=\"node2\" class=\"node\">\n<title>2419921468144</title>\n<polygon fill=\"lightgrey\" stroke=\"black\" points=\"154,-86 59,-86 59,-67 154,-67 154,-86\"/>\n<text text-anchor=\"middle\" x=\"106.5\" y=\"-74\" font-family=\"monospace\" font-size=\"10.00\">MeanBackward0</text>\n</g>\n<!-- 2419921468144&#45;&gt;2419929851808 -->\n<g id=\"edge9\" class=\"edge\">\n<title>2419921468144&#45;&gt;2419929851808</title>\n<path fill=\"none\" stroke=\"black\" d=\"M106.5,-66.79C106.5,-60.07 106.5,-50.4 106.5,-41.34\"/>\n<polygon fill=\"black\" stroke=\"black\" points=\"110,-41.19 106.5,-31.19 103,-41.19 110,-41.19\"/>\n</g>\n<!-- 2419929944880 -->\n<g id=\"node3\" class=\"node\">\n<title>2419929944880</title>\n<polygon fill=\"lightgrey\" stroke=\"black\" points=\"151,-141 62,-141 62,-122 151,-122 151,-141\"/>\n<text text-anchor=\"middle\" x=\"106.5\" y=\"-129\" font-family=\"monospace\" font-size=\"10.00\">PowBackward0</text>\n</g>\n<!-- 2419929944880&#45;&gt;2419921468144 -->\n<g id=\"edge1\" class=\"edge\">\n<title>2419929944880&#45;&gt;2419921468144</title>\n<path fill=\"none\" stroke=\"black\" d=\"M106.5,-121.75C106.5,-114.8 106.5,-104.85 106.5,-96.13\"/>\n<polygon fill=\"black\" stroke=\"black\" points=\"110,-96.09 106.5,-86.09 103,-96.09 110,-96.09\"/>\n</g>\n<!-- 2419921467472 -->\n<g id=\"node4\" class=\"node\">\n<title>2419921467472</title>\n<polygon fill=\"lightgrey\" stroke=\"black\" points=\"151,-196 62,-196 62,-177 151,-177 151,-196\"/>\n<text text-anchor=\"middle\" x=\"106.5\" y=\"-184\" font-family=\"monospace\" font-size=\"10.00\">SubBackward0</text>\n</g>\n<!-- 2419921467472&#45;&gt;2419929944880 -->\n<g id=\"edge2\" class=\"edge\">\n<title>2419921467472&#45;&gt;2419929944880</title>\n<path fill=\"none\" stroke=\"black\" d=\"M106.5,-176.75C106.5,-169.8 106.5,-159.85 106.5,-151.13\"/>\n<polygon fill=\"black\" stroke=\"black\" points=\"110,-151.09 106.5,-141.09 103,-151.09 110,-151.09\"/>\n</g>\n<!-- 2419928916768 -->\n<g id=\"node5\" class=\"node\">\n<title>2419928916768</title>\n<polygon fill=\"lightgrey\" stroke=\"black\" points=\"151,-251 62,-251 62,-232 151,-232 151,-251\"/>\n<text text-anchor=\"middle\" x=\"106.5\" y=\"-239\" font-family=\"monospace\" font-size=\"10.00\">AddBackward0</text>\n</g>\n<!-- 2419928916768&#45;&gt;2419921467472 -->\n<g id=\"edge3\" class=\"edge\">\n<title>2419928916768&#45;&gt;2419921467472</title>\n<path fill=\"none\" stroke=\"black\" d=\"M106.5,-231.75C106.5,-224.8 106.5,-214.85 106.5,-206.13\"/>\n<polygon fill=\"black\" stroke=\"black\" points=\"110,-206.09 106.5,-196.09 103,-206.09 110,-206.09\"/>\n</g>\n<!-- 2419885512768 -->\n<g id=\"node6\" class=\"node\">\n<title>2419885512768</title>\n<polygon fill=\"lightgrey\" stroke=\"black\" points=\"95,-306 6,-306 6,-287 95,-287 95,-306\"/>\n<text text-anchor=\"middle\" x=\"50.5\" y=\"-294\" font-family=\"monospace\" font-size=\"10.00\">MulBackward0</text>\n</g>\n<!-- 2419885512768&#45;&gt;2419928916768 -->\n<g id=\"edge4\" class=\"edge\">\n<title>2419885512768&#45;&gt;2419928916768</title>\n<path fill=\"none\" stroke=\"black\" d=\"M59.5,-286.98C67.69,-279.23 80.01,-267.58 89.97,-258.14\"/>\n<polygon fill=\"black\" stroke=\"black\" points=\"92.48,-260.59 97.34,-251.17 87.67,-255.5 92.48,-260.59\"/>\n</g>\n<!-- 2419885507248 -->\n<g id=\"node7\" class=\"node\">\n<title>2419885507248</title>\n<polygon fill=\"lightgrey\" stroke=\"black\" points=\"101,-366.5 0,-366.5 0,-347.5 101,-347.5 101,-366.5\"/>\n<text text-anchor=\"middle\" x=\"50.5\" y=\"-354.5\" font-family=\"monospace\" font-size=\"10.00\">AccumulateGrad</text>\n</g>\n<!-- 2419885507248&#45;&gt;2419885512768 -->\n<g id=\"edge5\" class=\"edge\">\n<title>2419885507248&#45;&gt;2419885512768</title>\n<path fill=\"none\" stroke=\"black\" d=\"M50.5,-347.37C50.5,-339.25 50.5,-326.81 50.5,-316.39\"/>\n<polygon fill=\"black\" stroke=\"black\" points=\"54,-316.17 50.5,-306.17 47,-316.17 54,-316.17\"/>\n</g>\n<!-- 2419929684528 -->\n<g id=\"node8\" class=\"node\">\n<title>2419929684528</title>\n<polygon fill=\"lightblue\" stroke=\"black\" points=\"77.5,-438 23.5,-438 23.5,-408 77.5,-408 77.5,-438\"/>\n<text text-anchor=\"middle\" x=\"50.5\" y=\"-426\" font-family=\"monospace\" font-size=\"10.00\">W</text>\n<text text-anchor=\"middle\" x=\"50.5\" y=\"-415\" font-family=\"monospace\" font-size=\"10.00\"> ()</text>\n</g>\n<!-- 2419929684528&#45;&gt;2419885507248 -->\n<g id=\"edge6\" class=\"edge\">\n<title>2419929684528&#45;&gt;2419885507248</title>\n<path fill=\"none\" stroke=\"black\" d=\"M50.5,-407.8C50.5,-398.7 50.5,-386.79 50.5,-376.9\"/>\n<polygon fill=\"black\" stroke=\"black\" points=\"54,-376.84 50.5,-366.84 47,-376.84 54,-376.84\"/>\n</g>\n<!-- 2419885520832 -->\n<g id=\"node9\" class=\"node\">\n<title>2419885520832</title>\n<polygon fill=\"lightgrey\" stroke=\"black\" points=\"214,-306 113,-306 113,-287 214,-287 214,-306\"/>\n<text text-anchor=\"middle\" x=\"163.5\" y=\"-294\" font-family=\"monospace\" font-size=\"10.00\">AccumulateGrad</text>\n</g>\n<!-- 2419885520832&#45;&gt;2419928916768 -->\n<g id=\"edge7\" class=\"edge\">\n<title>2419885520832&#45;&gt;2419928916768</title>\n<path fill=\"none\" stroke=\"black\" d=\"M154.34,-286.98C146,-279.23 133.47,-267.58 123.32,-258.14\"/>\n<polygon fill=\"black\" stroke=\"black\" points=\"125.53,-255.42 115.82,-251.17 120.76,-260.54 125.53,-255.42\"/>\n</g>\n<!-- 2419884753680 -->\n<g id=\"node10\" class=\"node\">\n<title>2419884753680</title>\n<polygon fill=\"lightblue\" stroke=\"black\" points=\"190.5,-372 136.5,-372 136.5,-342 190.5,-342 190.5,-372\"/>\n<text text-anchor=\"middle\" x=\"163.5\" y=\"-360\" font-family=\"monospace\" font-size=\"10.00\">B</text>\n<text text-anchor=\"middle\" x=\"163.5\" y=\"-349\" font-family=\"monospace\" font-size=\"10.00\"> ()</text>\n</g>\n<!-- 2419884753680&#45;&gt;2419885520832 -->\n<g id=\"edge8\" class=\"edge\">\n<title>2419884753680&#45;&gt;2419885520832</title>\n<path fill=\"none\" stroke=\"black\" d=\"M163.5,-341.84C163.5,-334.21 163.5,-324.7 163.5,-316.45\"/>\n<polygon fill=\"black\" stroke=\"black\" points=\"167,-316.27 163.5,-306.27 160,-316.27 167,-316.27\"/>\n</g>\n</g>\n</svg>\n",
      "text/plain": [
       "<graphviz.graphs.Digraph at 0x2336f0e9a80>"
      ]
     },
     "metadata": {},
     "output_type": "display_data"
    }
   ],
   "source": [
    "params={'W':W, 'B':B}\n",
    "g = make_dot(loss, params=params)\n",
    "display(g)"
   ]
  },
  {
   "cell_type": "code",
   "execution_count": 34,
   "metadata": {},
   "outputs": [
    {
     "name": "stdout",
     "output_type": "stream",
     "text": [
      "tensor(1.0341, requires_grad=True)\n",
      "tensor(0.9960, requires_grad=True)\n",
      "tensor(0.)\n",
      "tensor(0.)\n"
     ]
    }
   ],
   "source": [
    "\n",
    "lr=0.001\n",
    "with torch.no_grad():\n",
    "    W-=lr*W.grad\n",
    "    B-=lr*B.grad    \n",
    "    W.grad.zero_() # 경사값 초기화 \n",
    "    B.grad.zero_() # 경사값 초기화 \n",
    "print(W)\n",
    "print(B)\n",
    "print(W.grad)\n",
    "print(B.grad)\n"
   ]
  },
  {
   "cell_type": "code",
   "execution_count": 36,
   "metadata": {},
   "outputs": [
    {
     "name": "stdout",
     "output_type": "stream",
     "text": [
      "epoch=0 loss=12.8320\n",
      "epoch=10 loss=10.4482\n",
      "epoch=20 loss=8.9443\n",
      "epoch=30 loss=7.9913\n",
      "epoch=40 loss=7.3831\n",
      "epoch=50 loss=6.9912\n",
      "epoch=60 loss=6.7348\n",
      "epoch=70 loss=6.5638\n",
      "epoch=80 loss=6.4465\n",
      "epoch=90 loss=6.3631\n",
      "epoch=100 loss=6.3015\n",
      "epoch=110 loss=6.2537\n",
      "epoch=120 loss=6.2151\n",
      "epoch=130 loss=6.1824\n",
      "epoch=140 loss=6.1538\n",
      "epoch=150 loss=6.1282\n",
      "epoch=160 loss=6.1046\n",
      "epoch=170 loss=6.0826\n",
      "epoch=180 loss=6.0619\n",
      "epoch=190 loss=6.0424\n",
      "epoch=200 loss=6.0237\n",
      "epoch=210 loss=6.0059\n",
      "epoch=220 loss=5.9888\n",
      "epoch=230 loss=5.9725\n",
      "epoch=240 loss=5.9568\n",
      "epoch=250 loss=5.9418\n",
      "epoch=260 loss=5.9273\n",
      "epoch=270 loss=5.9135\n",
      "epoch=280 loss=5.9001\n",
      "epoch=290 loss=5.8873\n",
      "epoch=300 loss=5.8750\n",
      "epoch=310 loss=5.8632\n",
      "epoch=320 loss=5.8519\n",
      "epoch=330 loss=5.8410\n",
      "epoch=340 loss=5.8305\n",
      "epoch=350 loss=5.8205\n",
      "epoch=360 loss=5.8108\n",
      "epoch=370 loss=5.8015\n",
      "epoch=380 loss=5.7926\n",
      "epoch=390 loss=5.7840\n",
      "epoch=400 loss=5.7758\n",
      "epoch=410 loss=5.7679\n",
      "epoch=420 loss=5.7603\n",
      "epoch=430 loss=5.7530\n",
      "epoch=440 loss=5.7459\n",
      "epoch=450 loss=5.7392\n",
      "epoch=460 loss=5.7327\n",
      "epoch=470 loss=5.7265\n",
      "epoch=480 loss=5.7205\n",
      "epoch=490 loss=5.7148\n",
      "W= 1.7344766\n",
      "B= 0.36751142\n",
      "초기상태 : 손실:12.8320\n",
      "초기상태 : 손실:5.7148\n"
     ]
    }
   ],
   "source": [
    "W=torch.tensor(1.0, requires_grad=True).float() \n",
    "B=torch.tensor(1.0, requires_grad=True).float() \n",
    "\n",
    "num_epochs=500 \n",
    "lr=0.001\n",
    "history=np.zeros((0,2))\n",
    "\n",
    "for epoch in range(num_epochs):\n",
    "    Yp=pred(X)\n",
    "    loss=mse(Yp,Y)\n",
    "    loss.backward()\n",
    "\n",
    "    with torch.no_grad():\n",
    "        W-=lr*W.grad\n",
    "        B-=lr*B.grad\n",
    "        W.grad.zero_()\n",
    "        B.grad.zero_()\n",
    "\n",
    "    if (epoch%10==0):\n",
    "        item=np.array([epoch, loss.item()])\n",
    "        history=np.vstack((history, item))\n",
    "        print(f'epoch={epoch} loss={loss:.4f}')\n",
    "\n",
    "print('W=', W.data.numpy())\n",
    "print('B=', B.data.numpy())\n",
    "print(f'초기상태 : 손실:{history[0,1]:.4f}')\n",
    "print(f'초기상태 : 손실:{history[-1,1]:.4f}')\n"
   ]
  },
  {
   "cell_type": "code",
   "execution_count": 38,
   "metadata": {},
   "outputs": [
    {
     "data": {
      "image/png": "[encoded data removed]",
      "text/plain": [
       "<Figure size 640x480 with 1 Axes>"
      ]
     },
     "metadata": {},
     "output_type": "display_data"
    }
   ],
   "source": [
    "plt.plot(history[:,0],history[:,1], 'b')\n",
    "plt.xlabel('epoch')\n",
    "plt.ylabel('loss')\n",
    "plt.show()"
   ]
  },
  {
   "cell_type": "code",
   "execution_count": 39,
   "metadata": {},
   "outputs": [
    {
     "name": "stdout",
     "output_type": "stream",
     "text": [
      "epoch=0 loss=12.8320\n",
      "epoch=10 loss=10.4482\n",
      "epoch=20 loss=8.9443\n",
      "epoch=30 loss=7.9913\n",
      "epoch=40 loss=7.3831\n",
      "epoch=50 loss=6.9912\n",
      "epoch=60 loss=6.7348\n",
      "epoch=70 loss=6.5638\n",
      "epoch=80 loss=6.4465\n",
      "epoch=90 loss=6.3631\n",
      "epoch=100 loss=6.3015\n",
      "epoch=110 loss=6.2537\n",
      "epoch=120 loss=6.2151\n",
      "epoch=130 loss=6.1824\n",
      "epoch=140 loss=6.1538\n",
      "epoch=150 loss=6.1282\n",
      "epoch=160 loss=6.1046\n",
      "epoch=170 loss=6.0826\n",
      "epoch=180 loss=6.0619\n",
      "epoch=190 loss=6.0424\n",
      "epoch=200 loss=6.0237\n",
      "epoch=210 loss=6.0059\n",
      "epoch=220 loss=5.9888\n",
      "epoch=230 loss=5.9725\n",
      "epoch=240 loss=5.9568\n",
      "epoch=250 loss=5.9418\n",
      "epoch=260 loss=5.9273\n",
      "epoch=270 loss=5.9135\n",
      "epoch=280 loss=5.9001\n",
      "epoch=290 loss=5.8873\n",
      "epoch=300 loss=5.8750\n",
      "epoch=310 loss=5.8632\n",
      "epoch=320 loss=5.8519\n",
      "epoch=330 loss=5.8410\n",
      "epoch=340 loss=5.8305\n",
      "epoch=350 loss=5.8205\n",
      "epoch=360 loss=5.8108\n",
      "epoch=370 loss=5.8015\n",
      "epoch=380 loss=5.7926\n",
      "epoch=390 loss=5.7840\n",
      "epoch=400 loss=5.7758\n",
      "epoch=410 loss=5.7679\n",
      "epoch=420 loss=5.7603\n",
      "epoch=430 loss=5.7530\n",
      "epoch=440 loss=5.7459\n",
      "epoch=450 loss=5.7392\n",
      "epoch=460 loss=5.7327\n",
      "epoch=470 loss=5.7265\n",
      "epoch=480 loss=5.7205\n",
      "epoch=490 loss=5.7148\n"
     ]
    }
   ],
   "source": [
    "W=torch.tensor(1.0, requires_grad=True).float()\n",
    "B=torch.tensor(1.0, requires_grad=True).float()\n",
    "\n",
    "num_epochs=500\n",
    "lr=0.001\n",
    "\n",
    "import torch.optim as optim \n",
    "optimizer = optim.SGD([W,B], lr=lr)\n",
    "histroy=np.zeros((0,2))\n",
    "\n",
    "for epoch in range(num_epochs):\n",
    "    Yp=pred(X)\n",
    "    loss=mse(Yp,Y)\n",
    "    loss.backward()\n",
    "    '''\n",
    "    with torch.no_grad():\n",
    "        W-=lr*W.grad\n",
    "        B-=lr*B.grad\n",
    "        W.grad.zero_()\n",
    "        B.grad.zero_()\n",
    "    '''\n",
    "    optimizer.step() # 파라미터 수정\n",
    "    optimizer.zero_grad() # 경삿값 초기화\n",
    "\n",
    "\n",
    "    if (epoch%10==0):\n",
    "        item=np.array([epoch, loss.item()])\n",
    "        history=np.vstack((history, item))\n",
    "        print(f'epoch={epoch} loss={loss:.4f}')"
   ]
  },
  {
   "cell_type": "code",
   "execution_count": 52,
   "metadata": {},
   "outputs": [
    {
     "name": "stdout",
     "output_type": "stream",
     "text": [
      "입력 텐서 torch.Size([100, 784])\n",
      "출력 텐서 torch.Size([100, 10])\n",
      "입력 텐서 torch.Size([100, 784])\n",
      "출력 텐서 torch.Size([100, 10])\n"
     ]
    }
   ],
   "source": [
    "import torch.nn as nn\n",
    "\n",
    "l1=nn.Linear(784,128)\n",
    "l2=nn.Linear(128,10)\n",
    "relu=nn.ReLU(inplace=True)\n",
    "\n",
    "inputs = torch.randn(100,784)\n",
    "m1=l1(inputs)\n",
    "m2=relu(m1)\n",
    "outputs=l2(m2)\n",
    "\n",
    "print('입력 텐서',inputs.shape)\n",
    "print('출력 텐서',outputs.shape)\n",
    "\n",
    "# ==============================================\n",
    "\n",
    "net2 = nn.Sequential(\n",
    "    l1, \n",
    "    relu,\n",
    "    l2)\n",
    "\n",
    "outputs2=net2(inputs)\n",
    "print('입력 텐서', inputs.shape)\n",
    "print('출력 텐서', outputs2.shape)"
   ]
  },
  {
   "attachments": {},
   "cell_type": "markdown",
   "metadata": {},
   "source": [
    "1입력 1출력"
   ]
  },
  {
   "cell_type": "code",
   "execution_count": 54,
   "metadata": {},
   "outputs": [
    {
     "name": "stdout",
     "output_type": "stream",
     "text": [
      "Linear(in_features=1, out_features=1, bias=True)\n",
      "name:  weight\n",
      "tensor: Parameter containing:\n",
      "tensor([[-0.4078]], requires_grad=True)\n",
      "shape: torch.Size([1, 1])\n",
      "name:  bias\n",
      "tensor: Parameter containing:\n",
      "tensor([0.0331], requires_grad=True)\n",
      "shape: torch.Size([1])\n"
     ]
    }
   ],
   "source": [
    "torch.manual_seed(123)\n",
    "l1=nn.Linear(1,1)\n",
    "print(l1)\n",
    "\n",
    "for param in l1.named_parameters():\n",
    "    print('name: ', param[0])\n",
    "    print('tensor:', param[1])\n",
    "    print('shape:', param[1].shape)\n",
    "    "
   ]
  },
  {
   "cell_type": "code",
   "execution_count": 62,
   "metadata": {},
   "outputs": [
    {
     "name": "stdout",
     "output_type": "stream",
     "text": [
      "Parameter containing:\n",
      "tensor([[2.]], requires_grad=True)\n",
      "Parameter containing:\n",
      "tensor([1.], requires_grad=True)\n",
      "torch.Size([5, 1])\n",
      "tensor([[-2.],\n",
      "        [-1.],\n",
      "        [ 0.],\n",
      "        [ 1.],\n",
      "        [ 2.]])\n"
     ]
    }
   ],
   "source": [
    "nn.init.constant_(l1.weight, 2.0)\n",
    "nn.init.constant_(l1.bias, 1.0)\n",
    "print(l1.weight)\n",
    "print(l1.bias) \n",
    "#-> y=2x+1\n",
    "\n",
    "x_np=np.arange(-2, 2.1, 1)\n",
    "x=torch.tensor(x_np).float()\n",
    "x=x.view(-1,1) # (N,1)사이즈로 변경\n",
    "print(x.shape)\n",
    "print(x)"
   ]
  },
  {
   "cell_type": "code",
   "execution_count": 63,
   "metadata": {},
   "outputs": [
    {
     "name": "stdout",
     "output_type": "stream",
     "text": [
      "torch.Size([5, 1])\n",
      "tensor([[-3.],\n",
      "        [-1.],\n",
      "        [ 1.],\n",
      "        [ 3.],\n",
      "        [ 5.]])\n"
     ]
    }
   ],
   "source": [
    "y=l1(x)\n",
    "print(y.shape)\n",
    "print(y.data)"
   ]
  },
  {
   "attachments": {},
   "cell_type": "markdown",
   "metadata": {},
   "source": [
    "2입력 1출력"
   ]
  },
  {
   "cell_type": "code",
   "execution_count": 65,
   "metadata": {},
   "outputs": [
    {
     "name": "stdout",
     "output_type": "stream",
     "text": [
      "Parameter containing:\n",
      "tensor([[1., 1.]], requires_grad=True)\n",
      "Parameter containing:\n",
      "tensor([2.], requires_grad=True)\n"
     ]
    }
   ],
   "source": [
    "l2=nn.Linear(2,1) # 입력2, 출력1 선형 함수 정의 \n",
    "nn.init.constant_(l2.weight, 1.0)\n",
    "nn.init.constant_(l2.bias, 2.0)\n",
    "# x+x+2\n",
    "print(l2.weight)\n",
    "print(l2.bias)"
   ]
  },
  {
   "cell_type": "code",
   "execution_count": 66,
   "metadata": {},
   "outputs": [
    {
     "name": "stdout",
     "output_type": "stream",
     "text": [
      "torch.Size([4, 2])\n",
      "tensor([[0., 0.],\n",
      "        [0., 1.],\n",
      "        [1., 0.],\n",
      "        [1., 1.]])\n"
     ]
    }
   ],
   "source": [
    "x2_np=np.array([[0,0],[0,1],[1,0],[1,1]])\n",
    "x2=torch.tensor(x2_np).float()\n",
    "print(x2.shape)\n",
    "print(x2)"
   ]
  },
  {
   "cell_type": "code",
   "execution_count": 67,
   "metadata": {},
   "outputs": [
    {
     "name": "stdout",
     "output_type": "stream",
     "text": [
      "torch.Size([4, 1])\n",
      "tensor([[2.],\n",
      "        [3.],\n",
      "        [3.],\n",
      "        [4.]])\n"
     ]
    }
   ],
   "source": [
    "y2=l2(x2)\n",
    "print(y2.shape)\n",
    "print(y2.data)"
   ]
  },
  {
   "attachments": {},
   "cell_type": "markdown",
   "metadata": {},
   "source": [
    "2입력 3출력"
   ]
  },
  {
   "cell_type": "code",
   "execution_count": 69,
   "metadata": {},
   "outputs": [
    {
     "name": "stdout",
     "output_type": "stream",
     "text": [
      "Parameter containing:\n",
      "tensor([[1., 1.],\n",
      "        [2., 2.],\n",
      "        [3., 3.]], requires_grad=True)\n",
      "Parameter containing:\n",
      "tensor([2., 2., 2.], requires_grad=True)\n"
     ]
    }
   ],
   "source": [
    "l3=nn.Linear(2,3)\n",
    "\n",
    "nn.init.constant_(l3.weight[0,:], 1.0)\n",
    "nn.init.constant_(l3.weight[1,:], 2.0)\n",
    "nn.init.constant_(l3.weight[2,:], 3.0)\n",
    "nn.init.constant_(l3.bias, 2.0)\n",
    "\n",
    "print(l3.weight)\n",
    "print(l3.bias)"
   ]
  },
  {
   "cell_type": "code",
   "execution_count": 70,
   "metadata": {},
   "outputs": [
    {
     "name": "stdout",
     "output_type": "stream",
     "text": [
      "torch.Size([4, 3])\n",
      "tensor([[2., 2., 2.],\n",
      "        [3., 4., 5.],\n",
      "        [3., 4., 5.],\n",
      "        [4., 6., 8.]])\n"
     ]
    }
   ],
   "source": [
    "y3=l3(x2)\n",
    "print(y3.shape)\n",
    "print(y3.data)"
   ]
  },
  {
   "cell_type": "code",
   "execution_count": 72,
   "metadata": {},
   "outputs": [],
   "source": [
    "class Net(nn.Module):\n",
    "    def __init__(self, n_input, n_output):\n",
    "        super().__init__() # 부모 클래스 nn.Module 초기화 \n",
    "\n",
    "        self.l1=nn.Linear(n_input, n_output) # 출력층 정의 \n",
    "\n",
    "    def forward(self, x):\n",
    "        x1=self.l1(x) # 선형회귀 \n",
    "        return x1"
   ]
  },
  {
   "cell_type": "code",
   "execution_count": 74,
   "metadata": {},
   "outputs": [],
   "source": [
    "inputs=torch.ones(100,1) # 더미 \n",
    "\n",
    "n_input=1\n",
    "n_output=1\n",
    "net=Net(n_input, n_output)\n",
    "\n",
    "outputs=net(inputs) # 예측"
   ]
  },
  {
   "cell_type": "code",
   "execution_count": null,
   "metadata": {},
   "outputs": [],
   "source": []
  }
 ],
 "metadata": {
  "kernelspec": {
   "display_name": "ex",
   "language": "python",
   "name": "python3"
  },
  "language_info": {
   "codemirror_mode": {
    "name": "ipython",
    "version": 3
   },
   "file_extension": ".py",
   "mimetype": "text/x-python",
   "name": "python",
   "nbconvert_exporter": "python",
   "pygments_lexer": "ipython3",
   "version": "3.10.8 | packaged by conda-forge | (main, Nov 24 2022, 14:07:00) [MSC v.1916 64 bit (AMD64)]"
  },
  "orig_nbformat": 4,
  "vscode": {
   "interpreter": {
    "hash": "380ef7e906611b93d0998fa5a885be80b58ce7b2e15e82ac817a54343dcb0f93"
   }
  }
 },
 "nbformat": 4,
 "nbformat_minor": 2
}
