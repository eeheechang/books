{
 "cells": [
  {
   "cell_type": "code",
   "execution_count": 1,
   "metadata": {},
   "outputs": [
    {
     "name": "stderr",
     "output_type": "stream",
     "text": [
      "c:\\Users\\User\\.conda\\envs\\dl\\lib\\site-packages\\tqdm\\auto.py:22: TqdmWarning: IProgress not found. Please update jupyter and ipywidgets. See https://ipywidgets.readthedocs.io/en/stable/user_install.html\n",
      "  from .autonotebook import tqdm as notebook_tqdm\n"
     ]
    }
   ],
   "source": [
    "import torch\n",
    "import torch.nn as nn\n",
    "import torch.optim as optim\n",
    "import numpy as np"
   ]
  },
  {
   "cell_type": "code",
   "execution_count": 2,
   "metadata": {},
   "outputs": [
    {
     "name": "stdout",
     "output_type": "stream",
     "text": [
      "GPU 사용가능 여부: True\n",
      "GPU 사용가능 개수 : 2\n",
      "GPU 정보 반환 :  NVIDIA GeForce RTX 2080 Ti\n"
     ]
    }
   ],
   "source": [
    "### GPU 사용 확인 ###\n",
    "\n",
    "print(f'GPU 사용가능 여부: {torch.cuda.is_available()}')\n",
    "print(f'GPU 사용가능 개수 : {torch.cuda.device_count()}')\n",
    "print(f'GPU 정보 반환 :  {torch.cuda.get_device_name(0)}')"
   ]
  },
  {
   "cell_type": "code",
   "execution_count": 3,
   "metadata": {},
   "outputs": [
    {
     "name": "stdout",
     "output_type": "stream",
     "text": [
      "cuda:0\n"
     ]
    }
   ],
   "source": [
    "device = torch.device(\"cuda:0\" if torch.cuda.is_available() else \"cpu\")\n",
    "print(device)"
   ]
  },
  {
   "cell_type": "code",
   "execution_count": 4,
   "metadata": {},
   "outputs": [],
   "source": [
    "# 라이브러리 임포트\n",
    "import torchvision.datasets as datasets\n",
    "\n",
    "# 다운로드받을 디렉터리명\n",
    "data_root = './data'\n",
    "\n",
    "train_set0 = datasets.MNIST(\n",
    "    # 원본 데이터를 다운로드받을 디렉터리 지정\n",
    "    root = data_root,  \n",
    "    # 훈련 데이터인지 또는 검증 데이터인지\n",
    "    train = True,  \n",
    "    # 원본 데이터가 없는 경우, 다운로드를 실행하는지 여부\n",
    "    download = True)"
   ]
  },
  {
   "attachments": {},
   "cell_type": "markdown",
   "metadata": {},
   "source": [
    "스텝 1. ToTensor 사용하기"
   ]
  },
  {
   "cell_type": "code",
   "execution_count": 5,
   "metadata": {},
   "outputs": [],
   "source": [
    "# 라이브러리 임포트\n",
    "import torchvision.transforms as transforms\n",
    "\n",
    "transform1 = transforms.Compose([\n",
    "    # 데이터를 텐서로 변환\n",
    "    transforms.ToTensor(),\n",
    "])\n",
    "\n",
    "train_set1 = datasets.MNIST(\n",
    "    root=data_root,  train=True,  download=True,\n",
    "    transform = transform1)"
   ]
  },
  {
   "cell_type": "code",
   "execution_count": 6,
   "metadata": {},
   "outputs": [
    {
     "name": "stdout",
     "output_type": "stream",
     "text": [
      "입력 데이터 타입 :  <class 'torch.Tensor'>\n",
      "입력 데이터 shape :  torch.Size([1, 28, 28])\n",
      "최솟값 :  tensor(0.)\n",
      "최댓값 :  tensor(1.)\n"
     ]
    }
   ],
   "source": [
    "# 변환 결과 확인\n",
    "\n",
    "image, label = train_set1[0]\n",
    "print('입력 데이터 타입 : ', type(image))\n",
    "print('입력 데이터 shape : ', image.shape)\n",
    "print('최솟값 : ', image.data.min())\n",
    "print('최댓값 : ', image.data.max())"
   ]
  },
  {
   "attachments": {},
   "cell_type": "markdown",
   "metadata": {},
   "source": [
    "스텝 2. Normalize 사용하기"
   ]
  },
  {
   "cell_type": "code",
   "execution_count": 7,
   "metadata": {},
   "outputs": [],
   "source": [
    "transform2 = transforms.Compose([\n",
    "    # 데이터를 텐서로 변환\n",
    "    transforms.ToTensor(),\n",
    "    \n",
    "    # 데이터 정규화\n",
    "    transforms.Normalize(0.5,  0.5),\n",
    "])\n",
    "\n",
    "train_set2 = datasets.MNIST(\n",
    "    root = data_root,  train = True,  download = True,\n",
    "    transform = transform2)"
   ]
  },
  {
   "cell_type": "code",
   "execution_count": 8,
   "metadata": {},
   "outputs": [
    {
     "name": "stdout",
     "output_type": "stream",
     "text": [
      "shape :  torch.Size([1, 28, 28])\n",
      "최솟값 :  tensor(-1.)\n",
      "최댓값 :  tensor(1.)\n"
     ]
    }
   ],
   "source": [
    "# 변환 결과 확인\n",
    "\n",
    "image, label = train_set2[0]\n",
    "print('shape : ', image.shape)\n",
    "print('최솟값 : ', image.data.min())\n",
    "print('최댓값 : ', image.data.max())"
   ]
  },
  {
   "attachments": {},
   "cell_type": "markdown",
   "metadata": {},
   "source": [
    "스텝 3. Lambda 클래스를 사용해 1차원으로 텐서 변환하기"
   ]
  },
  {
   "cell_type": "code",
   "execution_count": 9,
   "metadata": {},
   "outputs": [],
   "source": [
    "transform3 = transforms.Compose([\n",
    "    # 데이터를 텐서로 변환\n",
    "    transforms.ToTensor(),\n",
    "    \n",
    "    # 데이터 정규화\n",
    "    transforms.Normalize(0.5, 0.5),\n",
    "    \n",
    "    # 현재 텐서를 1계 텐서로 변환\n",
    "    transforms.Lambda(lambda x: x.view(-1)),\n",
    "])\n",
    "\n",
    "train_set3 = datasets.MNIST(\n",
    "    root = data_root,  train = True,  \n",
    "    download=True, transform = transform3)"
   ]
  },
  {
   "cell_type": "code",
   "execution_count": 10,
   "metadata": {},
   "outputs": [
    {
     "name": "stdout",
     "output_type": "stream",
     "text": [
      "shape :  torch.Size([784])\n",
      "최솟값 :  tensor(-1.)\n",
      "최댓값 :  tensor(1.)\n"
     ]
    }
   ],
   "source": [
    "# 변환 결과 확인\n",
    "\n",
    "image, label = train_set3[0]\n",
    "print('shape : ', image.shape)\n",
    "print('최솟값 : ', image.data.min())\n",
    "print('최댓값 : ', image.data.max())"
   ]
  },
  {
   "attachments": {},
   "cell_type": "markdown",
   "metadata": {},
   "source": [
    "최종 구현 형태"
   ]
  },
  {
   "cell_type": "code",
   "execution_count": 11,
   "metadata": {},
   "outputs": [],
   "source": [
    "# 데이터 변환용 함수 Transforms\n",
    "# (1) Image를 텐서화\n",
    "# (2) [0, 1] 범위의 값을 [-1, 1] 범위로 조정\n",
    "# (3) 데이터의 shape을 [1, 28, 28] 에서 [784] 로 변환\n",
    "\n",
    "transform = transforms.Compose([\n",
    "    # (1) 데이터를 텐서로 변환\n",
    "    transforms.ToTensor(),\n",
    "    \n",
    "    # (2) 데이터 정규화\n",
    "    transforms.Normalize(0.5, 0.5),\n",
    "    \n",
    "    # (3) 1계 텐서로 변환\n",
    "    transforms.Lambda(lambda x: x.view(-1)),\n",
    "])"
   ]
  },
  {
   "cell_type": "code",
   "execution_count": 12,
   "metadata": {},
   "outputs": [],
   "source": [
    "# 데이터 입수를 위한 Dataset 함수\n",
    "\n",
    "# 훈련용 데이터셋 정의\n",
    "train_set = datasets.MNIST(\n",
    "    root = data_root, train = True,\n",
    "    download = True, transform = transform)\n",
    "\n",
    "# 검증용 데이터셋 정의\n",
    "test_set = datasets.MNIST(\n",
    "    root = data_root, train = False, \n",
    "    download = True, transform = transform)"
   ]
  },
  {
   "attachments": {},
   "cell_type": "markdown",
   "metadata": {},
   "source": [
    "데이터 준비 3 (데이터로더를 활용한 미니 배치 데이터 생성)"
   ]
  },
  {
   "cell_type": "code",
   "execution_count": 13,
   "metadata": {},
   "outputs": [],
   "source": [
    "# 라이브러리 임포트\n",
    "from torch.utils.data import DataLoader\n",
    "\n",
    "# 미니 배치 사이즈 지정\n",
    "batch_size = 500\n",
    "\n",
    "# 훈련용 데이터로더\n",
    "# 훈련용이므로, 셔플을 적용함\n",
    "train_loader = DataLoader(\n",
    "    train_set, batch_size = batch_size, \n",
    "    shuffle = True)\n",
    "\n",
    "# 검증용 데이터로더\n",
    "# 검증시에는 셔플을 필요로하지 않음\n",
    "test_loader = DataLoader(\n",
    "    test_set,  batch_size = batch_size, \n",
    "    shuffle = False)"
   ]
  },
  {
   "cell_type": "code",
   "execution_count": 14,
   "metadata": {},
   "outputs": [
    {
     "name": "stdout",
     "output_type": "stream",
     "text": [
      "120\n",
      "torch.Size([500, 784])\n",
      "torch.Size([500])\n"
     ]
    }
   ],
   "source": [
    "# 몇 개의 그룹으로 데이터를 가져올 수 있는가\n",
    "print(len(train_loader))\n",
    "\n",
    "# 데이터로더로부터 가장 처음 한 세트를 가져옴\n",
    "for images, labels in train_loader:\n",
    "    break\n",
    "\n",
    "print(images.shape)\n",
    "print(labels.shape)"
   ]
  },
  {
   "cell_type": "code",
   "execution_count": 15,
   "metadata": {},
   "outputs": [
    {
     "data": {
      "image/png": "[encoded data removed]",
      "text/plain": [
       "<Figure size 1000x300 with 20 Axes>"
      ]
     },
     "metadata": {},
     "output_type": "display_data"
    }
   ],
   "source": [
    "import matplotlib.pyplot as plt\n",
    "\n",
    "# 이미지 출력\n",
    "plt.figure(figsize=(10, 3))\n",
    "for i in range(20):\n",
    "    ax = plt.subplot(2, 10, i + 1)\n",
    "    \n",
    "    # 넘파이로 배열로 변환\n",
    "    image = images[i].numpy()\n",
    "    label = labels[i]\n",
    "    \n",
    "    # 이미지의 범위를 [0, 1] 로 되돌림\n",
    "    image2 = (image + 1)/ 2\n",
    "\n",
    "    # 이미지 출력\n",
    "    plt.imshow(image2.reshape(28, 28),cmap='gray_r')\n",
    "    ax.set_title(f'{label}')\n",
    "    ax.get_xaxis().set_visible(False)\n",
    "    ax.get_yaxis().set_visible(False)\n",
    "plt.show()"
   ]
  },
  {
   "attachments": {},
   "cell_type": "markdown",
   "metadata": {},
   "source": [
    "모델 정의"
   ]
  },
  {
   "cell_type": "code",
   "execution_count": 16,
   "metadata": {},
   "outputs": [
    {
     "name": "stdout",
     "output_type": "stream",
     "text": [
      "n_input: 784  n_hidden: 128 n_output: 10\n"
     ]
    }
   ],
   "source": [
    "# 입력 차원수\n",
    "n_input = image.shape[0]\n",
    "\n",
    "# 출력 차원수\n",
    "# 분류 클래스 수는 10\n",
    "n_output = len(set(list(labels.data.numpy())))\n",
    "\n",
    "# 은닉층의 노드 수\n",
    "n_hidden = 128\n",
    "\n",
    "# 결과 확인\n",
    "print(f'n_input: {n_input}  n_hidden: {n_hidden} n_output: {n_output}')"
   ]
  },
  {
   "cell_type": "code",
   "execution_count": 17,
   "metadata": {},
   "outputs": [],
   "source": [
    "# 모델 정의\n",
    "# 784입력 10출력 1은닉층의 신경망 모델\n",
    "\n",
    "class Net(nn.Module):\n",
    "    def __init__(self, n_input, n_output, n_hidden):\n",
    "        super().__init__()\n",
    "\n",
    "        # 은닉층 정의(은닉층 노드 수 : n_hidden)\n",
    "        self.l1 = nn.Linear(n_input, n_hidden)\n",
    "\n",
    "        # 출력층 정의\n",
    "        self.l2 = nn.Linear(n_hidden, n_output)\n",
    "\n",
    "        # ReLU 함수 정의\n",
    "        self.relu = nn.ReLU(inplace=True)\n",
    "   \n",
    "    def forward(self, x):\n",
    "        x1 = self.l1(x)\n",
    "        x2 = self.relu(x1)\n",
    "        x3 = self.l2(x2)\n",
    "        return x3"
   ]
  },
  {
   "cell_type": "code",
   "execution_count": 18,
   "metadata": {},
   "outputs": [],
   "source": [
    "# 난수 고정\n",
    "torch.manual_seed(123)\n",
    "torch.cuda.manual_seed(123)\n",
    "\n",
    "# 모델 인스턴스 생성\n",
    "net = Net(n_input, n_output, n_hidden)\n",
    "\n",
    "# 모델을 GPU로 전송\n",
    "net = net.to(device)"
   ]
  },
  {
   "cell_type": "code",
   "execution_count": 19,
   "metadata": {},
   "outputs": [],
   "source": [
    "# 학습률\n",
    "lr = 0.01\n",
    "\n",
    "# 최적화 알고리즘: 경사 하강법\n",
    "optimizer = torch.optim.SGD(net.parameters(), lr=lr)\n",
    "\n",
    "# 손실 함수： 교차 엔트로피 함수\n",
    "criterion = nn.CrossEntropyLoss()"
   ]
  },
  {
   "cell_type": "code",
   "execution_count": 20,
   "metadata": {},
   "outputs": [
    {
     "name": "stdout",
     "output_type": "stream",
     "text": [
      "('l1.weight', Parameter containing:\n",
      "tensor([[-0.0146,  0.0012, -0.0177,  ...,  0.0277,  0.0200,  0.0315],\n",
      "        [ 0.0184, -0.0322,  0.0175,  ...,  0.0089, -0.0028, -0.0033],\n",
      "        [ 0.0092,  0.0261,  0.0075,  ...,  0.0061,  0.0267, -0.0258],\n",
      "        ...,\n",
      "        [ 0.0235, -0.0026, -0.0129,  ...,  0.0322, -0.0059, -0.0169],\n",
      "        [-0.0328, -0.0258,  0.0124,  ..., -0.0049,  0.0006,  0.0334],\n",
      "        [ 0.0187, -0.0076, -0.0202,  ...,  0.0325, -0.0159, -0.0240]],\n",
      "       device='cuda:0', requires_grad=True))\n",
      "('l1.bias', Parameter containing:\n",
      "tensor([ 0.0325, -0.0298,  0.0013,  0.0199,  0.0268, -0.0248, -0.0172, -0.0355,\n",
      "         0.0122, -0.0048,  0.0214,  0.0202, -0.0243,  0.0015, -0.0276,  0.0296,\n",
      "         0.0341, -0.0228,  0.0230,  0.0347, -0.0091, -0.0346,  0.0206, -0.0060,\n",
      "         0.0329,  0.0047,  0.0180,  0.0101,  0.0177, -0.0309,  0.0228, -0.0224,\n",
      "         0.0321,  0.0179,  0.0321,  0.0184,  0.0219, -0.0089,  0.0310, -0.0039,\n",
      "        -0.0074, -0.0317,  0.0192, -0.0021,  0.0190,  0.0038,  0.0334, -0.0027,\n",
      "        -0.0127,  0.0229, -0.0265,  0.0023, -0.0162, -0.0134, -0.0027,  0.0212,\n",
      "        -0.0205, -0.0144,  0.0121,  0.0001,  0.0086,  0.0033,  0.0123,  0.0213,\n",
      "        -0.0177,  0.0247, -0.0109, -0.0222,  0.0228, -0.0110, -0.0074, -0.0089,\n",
      "        -0.0205,  0.0323, -0.0207, -0.0205, -0.0028, -0.0341, -0.0304,  0.0144,\n",
      "         0.0072,  0.0326, -0.0342, -0.0329, -0.0032, -0.0200, -0.0029, -0.0098,\n",
      "         0.0220, -0.0160,  0.0099,  0.0033, -0.0289,  0.0110,  0.0199,  0.0131,\n",
      "        -0.0279,  0.0122,  0.0237,  0.0126, -0.0055, -0.0088, -0.0057, -0.0048,\n",
      "         0.0007, -0.0017, -0.0324,  0.0048, -0.0134,  0.0334,  0.0298, -0.0060,\n",
      "         0.0263,  0.0113, -0.0113,  0.0150,  0.0091, -0.0311, -0.0079,  0.0002,\n",
      "        -0.0282, -0.0016,  0.0304, -0.0237, -0.0157, -0.0255,  0.0006,  0.0100],\n",
      "       device='cuda:0', requires_grad=True))\n",
      "('l2.weight', Parameter containing:\n",
      "tensor([[ 0.0107,  0.0714,  0.0153,  ...,  0.0704,  0.0505, -0.0382],\n",
      "        [-0.0066,  0.0348,  0.0143,  ..., -0.0039, -0.0141,  0.0130],\n",
      "        [-0.0251, -0.0654,  0.0567,  ..., -0.0435,  0.0154,  0.0256],\n",
      "        ...,\n",
      "        [-0.0131,  0.0147, -0.0452,  ...,  0.0344, -0.0539,  0.0466],\n",
      "        [ 0.0771, -0.0510,  0.0769,  ..., -0.0257, -0.0351,  0.0670],\n",
      "        [ 0.0456,  0.0628, -0.0649,  ..., -0.0804,  0.0707,  0.0119]],\n",
      "       device='cuda:0', requires_grad=True))\n",
      "('l2.bias', Parameter containing:\n",
      "tensor([-0.0787, -0.0282, -0.0108,  0.0021, -0.0330, -0.0162, -0.0825,  0.0590,\n",
      "         0.0566, -0.0631], device='cuda:0', requires_grad=True))\n"
     ]
    }
   ],
   "source": [
    "# 모델 내부 파라미터 확인\n",
    "# l1.weight, l1.bias, l2.weight, l2.bias를 확인할 수 있음\n",
    "\n",
    "for parameter in net.named_parameters():\n",
    "    print(parameter)"
   ]
  },
  {
   "cell_type": "code",
   "execution_count": 21,
   "metadata": {},
   "outputs": [
    {
     "name": "stdout",
     "output_type": "stream",
     "text": [
      "Net(\n",
      "  (l1): Linear(in_features=784, out_features=128, bias=True)\n",
      "  (l2): Linear(in_features=128, out_features=10, bias=True)\n",
      "  (relu): ReLU(inplace=True)\n",
      ")\n"
     ]
    }
   ],
   "source": [
    "# 모델 개요 표시 1\n",
    "\n",
    "print(net)"
   ]
  },
  {
   "cell_type": "code",
   "execution_count": 22,
   "metadata": {},
   "outputs": [
    {
     "data": {
      "text/plain": [
       "==========================================================================================\n",
       "Layer (type:depth-idx)                   Output Shape              Param #\n",
       "==========================================================================================\n",
       "Net                                      [10]                      --\n",
       "├─Linear: 1-1                            [128]                     100,480\n",
       "├─ReLU: 1-2                              [128]                     --\n",
       "├─Linear: 1-3                            [10]                      1,290\n",
       "==========================================================================================\n",
       "Total params: 101,770\n",
       "Trainable params: 101,770\n",
       "Non-trainable params: 0\n",
       "Total mult-adds (M): 12.87\n",
       "==========================================================================================\n",
       "Input size (MB): 0.00\n",
       "Forward/backward pass size (MB): 0.00\n",
       "Params size (MB): 0.41\n",
       "Estimated Total Size (MB): 0.41\n",
       "=========================================================================================="
      ]
     },
     "execution_count": 22,
     "metadata": {},
     "output_type": "execute_result"
    }
   ],
   "source": [
    "from torchinfo import summary\n",
    "# 모델 개요 표시 2\n",
    "\n",
    "summary(net, (784,))"
   ]
  },
  {
   "cell_type": "code",
   "execution_count": 23,
   "metadata": {},
   "outputs": [
    {
     "name": "stdout",
     "output_type": "stream",
     "text": [
      "tensor([[-0.2607, -0.1033, -0.0152,  ...,  0.2063,  0.2565, -0.1193],\n",
      "        [-0.2608, -0.0720,  0.3163,  ...,  0.1855,  0.1606,  0.1588],\n",
      "        [-0.4269, -0.2623,  0.1441,  ...,  0.2018,  0.2342,  0.0672],\n",
      "        ...,\n",
      "        [-0.2676, -0.3111, -0.0057,  ...,  0.1547,  0.1451, -0.0789],\n",
      "        [-0.2307, -0.1587,  0.2425,  ...,  0.1599,  0.0511,  0.0556],\n",
      "        [-0.0567, -0.2656,  0.3652,  ...,  0.1721, -0.0566, -0.0515]],\n",
      "       device='cuda:0', grad_fn=<AddmmBackward>)\n"
     ]
    }
   ],
   "source": [
    "for images, labels in train_loader:\n",
    "    break \n",
    "\n",
    "# GPU로 보내야함 \n",
    "inputs = images.to(device)\n",
    "labels = labels.to(device) \n",
    "\n",
    "# 예측 계산 \n",
    "outputs = net(inputs)\n",
    "print(outputs)"
   ]
  },
  {
   "cell_type": "code",
   "execution_count": 24,
   "metadata": {},
   "outputs": [
    {
     "name": "stdout",
     "output_type": "stream",
     "text": [
      "2.326763868331909\n"
     ]
    },
    {
     "data": {
      "image/svg+xml": "<?xml version=\"1.0\" encoding=\"UTF-8\" standalone=\"no\"?>\n<!DOCTYPE svg PUBLIC \"-//W3C//DTD SVG 1.1//EN\"\n \"http://www.w3.org/Graphics/SVG/1.1/DTD/svg11.dtd\">\n<!-- Generated by graphviz version 2.46.1 (20210213.1702)\n -->\n<!-- Pages: 1 -->\n<svg width=\"337pt\" height=\"523pt\"\n viewBox=\"0.00 0.00 337.00 523.00\" xmlns=\"http://www.w3.org/2000/svg\" xmlns:xlink=\"http://www.w3.org/1999/xlink\">\n<g id=\"graph0\" class=\"graph\" transform=\"scale(1 1) rotate(0) translate(4 519)\">\n<polygon fill=\"white\" stroke=\"transparent\" points=\"-4,4 -4,-519 333,-519 333,4 -4,4\"/>\n<!-- 1779962838784 -->\n<g id=\"node1\" class=\"node\">\n<title>1779962838784</title>\n<polygon fill=\"#caff70\" stroke=\"black\" points=\"193.5,-31 139.5,-31 139.5,0 193.5,0 193.5,-31\"/>\n<text text-anchor=\"middle\" x=\"166.5\" y=\"-7\" font-family=\"monospace\" font-size=\"10.00\"> ()</text>\n</g>\n<!-- 1780261033392 -->\n<g id=\"node2\" class=\"node\">\n<title>1780261033392</title>\n<polygon fill=\"lightgrey\" stroke=\"black\" points=\"220,-86 113,-86 113,-67 220,-67 220,-86\"/>\n<text text-anchor=\"middle\" x=\"166.5\" y=\"-74\" font-family=\"monospace\" font-size=\"10.00\">NllLossBackward</text>\n</g>\n<!-- 1780261033392&#45;&gt;1779962838784 -->\n<g id=\"edge15\" class=\"edge\">\n<title>1780261033392&#45;&gt;1779962838784</title>\n<path fill=\"none\" stroke=\"black\" d=\"M166.5,-66.79C166.5,-60.07 166.5,-50.4 166.5,-41.34\"/>\n<polygon fill=\"black\" stroke=\"black\" points=\"170,-41.19 166.5,-31.19 163,-41.19 170,-41.19\"/>\n</g>\n<!-- 1780261033488 -->\n<g id=\"node3\" class=\"node\">\n<title>1780261033488</title>\n<polygon fill=\"lightgrey\" stroke=\"black\" points=\"229,-141 104,-141 104,-122 229,-122 229,-141\"/>\n<text text-anchor=\"middle\" x=\"166.5\" y=\"-129\" font-family=\"monospace\" font-size=\"10.00\">LogSoftmaxBackward</text>\n</g>\n<!-- 1780261033488&#45;&gt;1780261033392 -->\n<g id=\"edge1\" class=\"edge\">\n<title>1780261033488&#45;&gt;1780261033392</title>\n<path fill=\"none\" stroke=\"black\" d=\"M166.5,-121.75C166.5,-114.8 166.5,-104.85 166.5,-96.13\"/>\n<polygon fill=\"black\" stroke=\"black\" points=\"170,-96.09 166.5,-86.09 163,-96.09 170,-96.09\"/>\n</g>\n<!-- 1780261033248 -->\n<g id=\"node4\" class=\"node\">\n<title>1780261033248</title>\n<polygon fill=\"lightgrey\" stroke=\"black\" points=\"214,-196 119,-196 119,-177 214,-177 214,-196\"/>\n<text text-anchor=\"middle\" x=\"166.5\" y=\"-184\" font-family=\"monospace\" font-size=\"10.00\">AddmmBackward</text>\n</g>\n<!-- 1780261033248&#45;&gt;1780261033488 -->\n<g id=\"edge2\" class=\"edge\">\n<title>1780261033248&#45;&gt;1780261033488</title>\n<path fill=\"none\" stroke=\"black\" d=\"M166.5,-176.75C166.5,-169.8 166.5,-159.85 166.5,-151.13\"/>\n<polygon fill=\"black\" stroke=\"black\" points=\"170,-151.09 166.5,-141.09 163,-151.09 170,-151.09\"/>\n</g>\n<!-- 1780261033536 -->\n<g id=\"node5\" class=\"node\">\n<title>1780261033536</title>\n<polygon fill=\"lightgrey\" stroke=\"black\" points=\"101,-251 0,-251 0,-232 101,-232 101,-251\"/>\n<text text-anchor=\"middle\" x=\"50.5\" y=\"-239\" font-family=\"monospace\" font-size=\"10.00\">AccumulateGrad</text>\n</g>\n<!-- 1780261033536&#45;&gt;1780261033248 -->\n<g id=\"edge3\" class=\"edge\">\n<title>1780261033536&#45;&gt;1780261033248</title>\n<path fill=\"none\" stroke=\"black\" d=\"M69.14,-231.98C87.8,-223.46 116.75,-210.23 138.24,-200.41\"/>\n<polygon fill=\"black\" stroke=\"black\" points=\"139.88,-203.51 147.52,-196.17 136.97,-197.14 139.88,-203.51\"/>\n</g>\n<!-- 1778791163904 -->\n<g id=\"node6\" class=\"node\">\n<title>1778791163904</title>\n<polygon fill=\"lightblue\" stroke=\"black\" points=\"80,-317 21,-317 21,-287 80,-287 80,-317\"/>\n<text text-anchor=\"middle\" x=\"50.5\" y=\"-305\" font-family=\"monospace\" font-size=\"10.00\">l2.bias</text>\n<text text-anchor=\"middle\" x=\"50.5\" y=\"-294\" font-family=\"monospace\" font-size=\"10.00\"> (10)</text>\n</g>\n<!-- 1778791163904&#45;&gt;1780261033536 -->\n<g id=\"edge4\" class=\"edge\">\n<title>1778791163904&#45;&gt;1780261033536</title>\n<path fill=\"none\" stroke=\"black\" d=\"M50.5,-286.84C50.5,-279.21 50.5,-269.7 50.5,-261.45\"/>\n<polygon fill=\"black\" stroke=\"black\" points=\"54,-261.27 50.5,-251.27 47,-261.27 54,-261.27\"/>\n</g>\n<!-- 1780261033152 -->\n<g id=\"node7\" class=\"node\">\n<title>1780261033152</title>\n<polygon fill=\"lightgrey\" stroke=\"black\" points=\"214,-251 119,-251 119,-232 214,-232 214,-251\"/>\n<text text-anchor=\"middle\" x=\"166.5\" y=\"-239\" font-family=\"monospace\" font-size=\"10.00\">ReluBackward1</text>\n</g>\n<!-- 1780261033152&#45;&gt;1780261033248 -->\n<g id=\"edge5\" class=\"edge\">\n<title>1780261033152&#45;&gt;1780261033248</title>\n<path fill=\"none\" stroke=\"black\" d=\"M166.5,-231.75C166.5,-224.8 166.5,-214.85 166.5,-206.13\"/>\n<polygon fill=\"black\" stroke=\"black\" points=\"170,-206.09 166.5,-196.09 163,-206.09 170,-206.09\"/>\n</g>\n<!-- 1780261033632 -->\n<g id=\"node8\" class=\"node\">\n<title>1780261033632</title>\n<polygon fill=\"lightgrey\" stroke=\"black\" points=\"210,-311.5 115,-311.5 115,-292.5 210,-292.5 210,-311.5\"/>\n<text text-anchor=\"middle\" x=\"162.5\" y=\"-299.5\" font-family=\"monospace\" font-size=\"10.00\">AddmmBackward</text>\n</g>\n<!-- 1780261033632&#45;&gt;1780261033152 -->\n<g id=\"edge6\" class=\"edge\">\n<title>1780261033632&#45;&gt;1780261033152</title>\n<path fill=\"none\" stroke=\"black\" d=\"M163.09,-292.37C163.65,-284.25 164.5,-271.81 165.21,-261.39\"/>\n<polygon fill=\"black\" stroke=\"black\" points=\"168.72,-261.38 165.91,-251.17 161.73,-260.91 168.72,-261.38\"/>\n</g>\n<!-- 1780261033824 -->\n<g id=\"node9\" class=\"node\">\n<title>1780261033824</title>\n<polygon fill=\"lightgrey\" stroke=\"black\" points=\"121,-377.5 20,-377.5 20,-358.5 121,-358.5 121,-377.5\"/>\n<text text-anchor=\"middle\" x=\"70.5\" y=\"-365.5\" font-family=\"monospace\" font-size=\"10.00\">AccumulateGrad</text>\n</g>\n<!-- 1780261033824&#45;&gt;1780261033632 -->\n<g id=\"edge7\" class=\"edge\">\n<title>1780261033824&#45;&gt;1780261033632</title>\n<path fill=\"none\" stroke=\"black\" d=\"M82.91,-358.37C97.86,-347.97 123.22,-330.32 141.3,-317.75\"/>\n<polygon fill=\"black\" stroke=\"black\" points=\"143.78,-320.28 150,-311.7 139.79,-314.54 143.78,-320.28\"/>\n</g>\n<!-- 1779047658496 -->\n<g id=\"node10\" class=\"node\">\n<title>1779047658496</title>\n<polygon fill=\"lightblue\" stroke=\"black\" points=\"100,-449 41,-449 41,-419 100,-419 100,-449\"/>\n<text text-anchor=\"middle\" x=\"70.5\" y=\"-437\" font-family=\"monospace\" font-size=\"10.00\">l1.bias</text>\n<text text-anchor=\"middle\" x=\"70.5\" y=\"-426\" font-family=\"monospace\" font-size=\"10.00\"> (128)</text>\n</g>\n<!-- 1779047658496&#45;&gt;1780261033824 -->\n<g id=\"edge8\" class=\"edge\">\n<title>1779047658496&#45;&gt;1780261033824</title>\n<path fill=\"none\" stroke=\"black\" d=\"M70.5,-418.8C70.5,-409.7 70.5,-397.79 70.5,-387.9\"/>\n<polygon fill=\"black\" stroke=\"black\" points=\"74,-387.84 70.5,-377.84 67,-387.84 74,-387.84\"/>\n</g>\n<!-- 1780261033776 -->\n<g id=\"node11\" class=\"node\">\n<title>1780261033776</title>\n<polygon fill=\"lightgrey\" stroke=\"black\" points=\"210,-377.5 139,-377.5 139,-358.5 210,-358.5 210,-377.5\"/>\n<text text-anchor=\"middle\" x=\"174.5\" y=\"-365.5\" font-family=\"monospace\" font-size=\"10.00\">TBackward</text>\n</g>\n<!-- 1780261033776&#45;&gt;1780261033632 -->\n<g id=\"edge9\" class=\"edge\">\n<title>1780261033776&#45;&gt;1780261033632</title>\n<path fill=\"none\" stroke=\"black\" d=\"M172.88,-358.37C171.14,-349.07 168.31,-333.98 166.04,-321.9\"/>\n<polygon fill=\"black\" stroke=\"black\" points=\"169.45,-321.09 164.17,-311.91 162.57,-322.38 169.45,-321.09\"/>\n</g>\n<!-- 1780261033872 -->\n<g id=\"node12\" class=\"node\">\n<title>1780261033872</title>\n<polygon fill=\"lightgrey\" stroke=\"black\" points=\"225,-443.5 124,-443.5 124,-424.5 225,-424.5 225,-443.5\"/>\n<text text-anchor=\"middle\" x=\"174.5\" y=\"-431.5\" font-family=\"monospace\" font-size=\"10.00\">AccumulateGrad</text>\n</g>\n<!-- 1780261033872&#45;&gt;1780261033776 -->\n<g id=\"edge10\" class=\"edge\">\n<title>1780261033872&#45;&gt;1780261033776</title>\n<path fill=\"none\" stroke=\"black\" d=\"M174.5,-424.37C174.5,-415.16 174.5,-400.29 174.5,-388.27\"/>\n<polygon fill=\"black\" stroke=\"black\" points=\"178,-387.91 174.5,-377.91 171,-387.91 178,-387.91\"/>\n</g>\n<!-- 1779963131264 -->\n<g id=\"node13\" class=\"node\">\n<title>1779963131264</title>\n<polygon fill=\"lightblue\" stroke=\"black\" points=\"216,-515 133,-515 133,-485 216,-485 216,-515\"/>\n<text text-anchor=\"middle\" x=\"174.5\" y=\"-503\" font-family=\"monospace\" font-size=\"10.00\">l1.weight</text>\n<text text-anchor=\"middle\" x=\"174.5\" y=\"-492\" font-family=\"monospace\" font-size=\"10.00\"> (128, 784)</text>\n</g>\n<!-- 1779963131264&#45;&gt;1780261033872 -->\n<g id=\"edge11\" class=\"edge\">\n<title>1779963131264&#45;&gt;1780261033872</title>\n<path fill=\"none\" stroke=\"black\" d=\"M174.5,-484.8C174.5,-475.7 174.5,-463.79 174.5,-453.9\"/>\n<polygon fill=\"black\" stroke=\"black\" points=\"178,-453.84 174.5,-443.84 171,-453.84 178,-453.84\"/>\n</g>\n<!-- 1780261033344 -->\n<g id=\"node14\" class=\"node\">\n<title>1780261033344</title>\n<polygon fill=\"lightgrey\" stroke=\"black\" points=\"307,-251 236,-251 236,-232 307,-232 307,-251\"/>\n<text text-anchor=\"middle\" x=\"271.5\" y=\"-239\" font-family=\"monospace\" font-size=\"10.00\">TBackward</text>\n</g>\n<!-- 1780261033344&#45;&gt;1780261033248 -->\n<g id=\"edge12\" class=\"edge\">\n<title>1780261033344&#45;&gt;1780261033248</title>\n<path fill=\"none\" stroke=\"black\" d=\"M254.63,-231.98C237.89,-223.54 212,-210.47 192.61,-200.68\"/>\n<polygon fill=\"black\" stroke=\"black\" points=\"194.18,-197.55 183.68,-196.17 191.03,-203.8 194.18,-197.55\"/>\n</g>\n<!-- 1780261033920 -->\n<g id=\"node15\" class=\"node\">\n<title>1780261033920</title>\n<polygon fill=\"lightgrey\" stroke=\"black\" points=\"329,-311.5 228,-311.5 228,-292.5 329,-292.5 329,-311.5\"/>\n<text text-anchor=\"middle\" x=\"278.5\" y=\"-299.5\" font-family=\"monospace\" font-size=\"10.00\">AccumulateGrad</text>\n</g>\n<!-- 1780261033920&#45;&gt;1780261033344 -->\n<g id=\"edge13\" class=\"edge\">\n<title>1780261033920&#45;&gt;1780261033344</title>\n<path fill=\"none\" stroke=\"black\" d=\"M277.47,-292.37C276.5,-284.25 275.01,-271.81 273.76,-261.39\"/>\n<polygon fill=\"black\" stroke=\"black\" points=\"277.2,-260.68 272.54,-251.17 270.25,-261.51 277.2,-260.68\"/>\n</g>\n<!-- 1778791159552 -->\n<g id=\"node16\" class=\"node\">\n<title>1778791159552</title>\n<polygon fill=\"lightblue\" stroke=\"black\" points=\"317,-383 240,-383 240,-353 317,-353 317,-383\"/>\n<text text-anchor=\"middle\" x=\"278.5\" y=\"-371\" font-family=\"monospace\" font-size=\"10.00\">l2.weight</text>\n<text text-anchor=\"middle\" x=\"278.5\" y=\"-360\" font-family=\"monospace\" font-size=\"10.00\"> (10, 128)</text>\n</g>\n<!-- 1778791159552&#45;&gt;1780261033920 -->\n<g id=\"edge14\" class=\"edge\">\n<title>1778791159552&#45;&gt;1780261033920</title>\n<path fill=\"none\" stroke=\"black\" d=\"M278.5,-352.8C278.5,-343.7 278.5,-331.79 278.5,-321.9\"/>\n<polygon fill=\"black\" stroke=\"black\" points=\"282,-321.84 278.5,-311.84 275,-321.84 282,-321.84\"/>\n</g>\n</g>\n</svg>\n",
      "text/plain": [
       "<graphviz.graphs.Digraph at 0x19e7fd394f0>"
      ]
     },
     "execution_count": 24,
     "metadata": {},
     "output_type": "execute_result"
    }
   ],
   "source": [
    "from torchviz import make_dot\n",
    "\n",
    "loss = criterion(outputs, labels)\n",
    "print(loss.item()) # 손실값 가져오기 \n",
    "make_dot(loss, params=dict(net.named_parameters()))"
   ]
  },
  {
   "cell_type": "code",
   "execution_count": 25,
   "metadata": {},
   "outputs": [
    {
     "name": "stderr",
     "output_type": "stream",
     "text": [
      "100%|██████████| 120/120 [00:08<00:00, 14.17it/s]\n"
     ]
    },
    {
     "name": "stdout",
     "output_type": "stream",
     "text": [
      "Epoch [1/100], loss: 0.00000 acc: 0.00000 val_loss: 1.32709, val_acc: 0.73700\n"
     ]
    },
    {
     "name": "stderr",
     "output_type": "stream",
     "text": [
      "100%|██████████| 120/120 [00:08<00:00, 14.18it/s]\n"
     ]
    },
    {
     "name": "stdout",
     "output_type": "stream",
     "text": [
      "Epoch [2/100], loss: 0.00000 acc: 0.00000 val_loss: 0.79728, val_acc: 0.83640\n"
     ]
    },
    {
     "name": "stderr",
     "output_type": "stream",
     "text": [
      "100%|██████████| 120/120 [00:08<00:00, 13.69it/s]\n"
     ]
    },
    {
     "name": "stdout",
     "output_type": "stream",
     "text": [
      "Epoch [3/100], loss: 0.00000 acc: 0.00000 val_loss: 0.60302, val_acc: 0.85960\n"
     ]
    },
    {
     "name": "stderr",
     "output_type": "stream",
     "text": [
      "100%|██████████| 120/120 [00:08<00:00, 13.72it/s]\n"
     ]
    },
    {
     "name": "stdout",
     "output_type": "stream",
     "text": [
      "Epoch [4/100], loss: 0.00000 acc: 0.00000 val_loss: 0.51246, val_acc: 0.87120\n"
     ]
    },
    {
     "name": "stderr",
     "output_type": "stream",
     "text": [
      "100%|██████████| 120/120 [00:08<00:00, 13.93it/s]\n"
     ]
    },
    {
     "name": "stdout",
     "output_type": "stream",
     "text": [
      "Epoch [5/100], loss: 0.00000 acc: 0.00000 val_loss: 0.45812, val_acc: 0.87940\n"
     ]
    },
    {
     "name": "stderr",
     "output_type": "stream",
     "text": [
      "100%|██████████| 120/120 [00:08<00:00, 13.89it/s]\n"
     ]
    },
    {
     "name": "stdout",
     "output_type": "stream",
     "text": [
      "Epoch [6/100], loss: 0.00000 acc: 0.00000 val_loss: 0.42407, val_acc: 0.88680\n"
     ]
    },
    {
     "name": "stderr",
     "output_type": "stream",
     "text": [
      "100%|██████████| 120/120 [00:08<00:00, 13.69it/s]\n"
     ]
    },
    {
     "name": "stdout",
     "output_type": "stream",
     "text": [
      "Epoch [7/100], loss: 0.00000 acc: 0.00000 val_loss: 0.39993, val_acc: 0.89010\n"
     ]
    },
    {
     "name": "stderr",
     "output_type": "stream",
     "text": [
      "100%|██████████| 120/120 [00:08<00:00, 13.66it/s]\n"
     ]
    },
    {
     "name": "stdout",
     "output_type": "stream",
     "text": [
      "Epoch [8/100], loss: 0.00000 acc: 0.00000 val_loss: 0.38284, val_acc: 0.89330\n"
     ]
    },
    {
     "name": "stderr",
     "output_type": "stream",
     "text": [
      "100%|██████████| 120/120 [00:08<00:00, 14.12it/s]\n"
     ]
    },
    {
     "name": "stdout",
     "output_type": "stream",
     "text": [
      "Epoch [9/100], loss: 0.00000 acc: 0.00000 val_loss: 0.36841, val_acc: 0.89680\n"
     ]
    },
    {
     "name": "stderr",
     "output_type": "stream",
     "text": [
      "100%|██████████| 120/120 [00:08<00:00, 13.59it/s]\n"
     ]
    },
    {
     "name": "stdout",
     "output_type": "stream",
     "text": [
      "Epoch [10/100], loss: 0.00000 acc: 0.00000 val_loss: 0.35744, val_acc: 0.89900\n"
     ]
    },
    {
     "name": "stderr",
     "output_type": "stream",
     "text": [
      "100%|██████████| 120/120 [00:08<00:00, 13.83it/s]\n"
     ]
    },
    {
     "name": "stdout",
     "output_type": "stream",
     "text": [
      "Epoch [11/100], loss: 0.00000 acc: 0.00000 val_loss: 0.34819, val_acc: 0.90130\n"
     ]
    },
    {
     "name": "stderr",
     "output_type": "stream",
     "text": [
      "100%|██████████| 120/120 [00:08<00:00, 13.93it/s]\n"
     ]
    },
    {
     "name": "stdout",
     "output_type": "stream",
     "text": [
      "Epoch [12/100], loss: 0.00000 acc: 0.00000 val_loss: 0.34020, val_acc: 0.90330\n"
     ]
    },
    {
     "name": "stderr",
     "output_type": "stream",
     "text": [
      "100%|██████████| 120/120 [00:08<00:00, 14.04it/s]\n"
     ]
    },
    {
     "name": "stdout",
     "output_type": "stream",
     "text": [
      "Epoch [13/100], loss: 0.00000 acc: 0.00000 val_loss: 0.33519, val_acc: 0.90420\n"
     ]
    },
    {
     "name": "stderr",
     "output_type": "stream",
     "text": [
      "100%|██████████| 120/120 [00:08<00:00, 13.64it/s]\n"
     ]
    },
    {
     "name": "stdout",
     "output_type": "stream",
     "text": [
      "Epoch [14/100], loss: 0.00000 acc: 0.00000 val_loss: 0.32816, val_acc: 0.90770\n"
     ]
    },
    {
     "name": "stderr",
     "output_type": "stream",
     "text": [
      "100%|██████████| 120/120 [00:08<00:00, 14.05it/s]\n"
     ]
    },
    {
     "name": "stdout",
     "output_type": "stream",
     "text": [
      "Epoch [15/100], loss: 0.00000 acc: 0.00000 val_loss: 0.32274, val_acc: 0.90840\n"
     ]
    },
    {
     "name": "stderr",
     "output_type": "stream",
     "text": [
      "100%|██████████| 120/120 [00:08<00:00, 13.81it/s]\n"
     ]
    },
    {
     "name": "stdout",
     "output_type": "stream",
     "text": [
      "Epoch [16/100], loss: 0.00000 acc: 0.00000 val_loss: 0.31798, val_acc: 0.90810\n"
     ]
    },
    {
     "name": "stderr",
     "output_type": "stream",
     "text": [
      "100%|██████████| 120/120 [00:08<00:00, 14.03it/s]\n"
     ]
    },
    {
     "name": "stdout",
     "output_type": "stream",
     "text": [
      "Epoch [17/100], loss: 0.00000 acc: 0.00000 val_loss: 0.31324, val_acc: 0.90870\n"
     ]
    },
    {
     "name": "stderr",
     "output_type": "stream",
     "text": [
      "100%|██████████| 120/120 [00:08<00:00, 13.73it/s]\n"
     ]
    },
    {
     "name": "stdout",
     "output_type": "stream",
     "text": [
      "Epoch [18/100], loss: 0.00000 acc: 0.00000 val_loss: 0.30976, val_acc: 0.91080\n"
     ]
    },
    {
     "name": "stderr",
     "output_type": "stream",
     "text": [
      "100%|██████████| 120/120 [00:08<00:00, 13.98it/s]\n"
     ]
    },
    {
     "name": "stdout",
     "output_type": "stream",
     "text": [
      "Epoch [19/100], loss: 0.00000 acc: 0.00000 val_loss: 0.30643, val_acc: 0.91270\n"
     ]
    },
    {
     "name": "stderr",
     "output_type": "stream",
     "text": [
      "100%|██████████| 120/120 [00:08<00:00, 13.84it/s]\n"
     ]
    },
    {
     "name": "stdout",
     "output_type": "stream",
     "text": [
      "Epoch [20/100], loss: 0.00000 acc: 0.00000 val_loss: 0.30323, val_acc: 0.91340\n"
     ]
    },
    {
     "name": "stderr",
     "output_type": "stream",
     "text": [
      "100%|██████████| 120/120 [00:08<00:00, 13.93it/s]\n"
     ]
    },
    {
     "name": "stdout",
     "output_type": "stream",
     "text": [
      "Epoch [21/100], loss: 0.00000 acc: 0.00000 val_loss: 0.29928, val_acc: 0.91510\n"
     ]
    },
    {
     "name": "stderr",
     "output_type": "stream",
     "text": [
      "100%|██████████| 120/120 [00:08<00:00, 14.02it/s]\n"
     ]
    },
    {
     "name": "stdout",
     "output_type": "stream",
     "text": [
      "Epoch [22/100], loss: 0.00000 acc: 0.00000 val_loss: 0.29689, val_acc: 0.91600\n"
     ]
    },
    {
     "name": "stderr",
     "output_type": "stream",
     "text": [
      "100%|██████████| 120/120 [00:08<00:00, 13.63it/s]\n"
     ]
    },
    {
     "name": "stdout",
     "output_type": "stream",
     "text": [
      "Epoch [23/100], loss: 0.00000 acc: 0.00000 val_loss: 0.29413, val_acc: 0.91520\n"
     ]
    },
    {
     "name": "stderr",
     "output_type": "stream",
     "text": [
      "100%|██████████| 120/120 [00:08<00:00, 13.86it/s]\n"
     ]
    },
    {
     "name": "stdout",
     "output_type": "stream",
     "text": [
      "Epoch [24/100], loss: 0.00000 acc: 0.00000 val_loss: 0.29173, val_acc: 0.91610\n"
     ]
    },
    {
     "name": "stderr",
     "output_type": "stream",
     "text": [
      "100%|██████████| 120/120 [00:08<00:00, 13.83it/s]\n"
     ]
    },
    {
     "name": "stdout",
     "output_type": "stream",
     "text": [
      "Epoch [25/100], loss: 0.00000 acc: 0.00000 val_loss: 0.28941, val_acc: 0.91790\n"
     ]
    },
    {
     "name": "stderr",
     "output_type": "stream",
     "text": [
      "100%|██████████| 120/120 [00:08<00:00, 13.39it/s]\n"
     ]
    },
    {
     "name": "stdout",
     "output_type": "stream",
     "text": [
      "Epoch [26/100], loss: 0.00000 acc: 0.00000 val_loss: 0.28609, val_acc: 0.91840\n"
     ]
    },
    {
     "name": "stderr",
     "output_type": "stream",
     "text": [
      "100%|██████████| 120/120 [00:08<00:00, 13.90it/s]\n"
     ]
    },
    {
     "name": "stdout",
     "output_type": "stream",
     "text": [
      "Epoch [27/100], loss: 0.00000 acc: 0.00000 val_loss: 0.28441, val_acc: 0.91970\n"
     ]
    },
    {
     "name": "stderr",
     "output_type": "stream",
     "text": [
      "100%|██████████| 120/120 [00:08<00:00, 13.82it/s]\n"
     ]
    },
    {
     "name": "stdout",
     "output_type": "stream",
     "text": [
      "Epoch [28/100], loss: 0.00000 acc: 0.00000 val_loss: 0.28163, val_acc: 0.91870\n"
     ]
    },
    {
     "name": "stderr",
     "output_type": "stream",
     "text": [
      "100%|██████████| 120/120 [00:08<00:00, 14.17it/s]\n"
     ]
    },
    {
     "name": "stdout",
     "output_type": "stream",
     "text": [
      "Epoch [29/100], loss: 0.00000 acc: 0.00000 val_loss: 0.27873, val_acc: 0.92050\n"
     ]
    },
    {
     "name": "stderr",
     "output_type": "stream",
     "text": [
      "100%|██████████| 120/120 [00:08<00:00, 14.12it/s]\n"
     ]
    },
    {
     "name": "stdout",
     "output_type": "stream",
     "text": [
      "Epoch [30/100], loss: 0.00000 acc: 0.00000 val_loss: 0.27697, val_acc: 0.92110\n"
     ]
    },
    {
     "name": "stderr",
     "output_type": "stream",
     "text": [
      "100%|██████████| 120/120 [00:08<00:00, 13.77it/s]\n"
     ]
    },
    {
     "name": "stdout",
     "output_type": "stream",
     "text": [
      "Epoch [31/100], loss: 0.00000 acc: 0.00000 val_loss: 0.27481, val_acc: 0.92110\n"
     ]
    },
    {
     "name": "stderr",
     "output_type": "stream",
     "text": [
      "100%|██████████| 120/120 [00:08<00:00, 14.17it/s]\n"
     ]
    },
    {
     "name": "stdout",
     "output_type": "stream",
     "text": [
      "Epoch [32/100], loss: 0.00000 acc: 0.00000 val_loss: 0.27255, val_acc: 0.92210\n"
     ]
    },
    {
     "name": "stderr",
     "output_type": "stream",
     "text": [
      "100%|██████████| 120/120 [00:08<00:00, 13.96it/s]\n"
     ]
    },
    {
     "name": "stdout",
     "output_type": "stream",
     "text": [
      "Epoch [33/100], loss: 0.00000 acc: 0.00000 val_loss: 0.27097, val_acc: 0.92260\n"
     ]
    },
    {
     "name": "stderr",
     "output_type": "stream",
     "text": [
      "100%|██████████| 120/120 [00:08<00:00, 14.05it/s]\n"
     ]
    },
    {
     "name": "stdout",
     "output_type": "stream",
     "text": [
      "Epoch [34/100], loss: 0.00000 acc: 0.00000 val_loss: 0.26819, val_acc: 0.92430\n"
     ]
    },
    {
     "name": "stderr",
     "output_type": "stream",
     "text": [
      "100%|██████████| 120/120 [00:08<00:00, 13.91it/s]\n"
     ]
    },
    {
     "name": "stdout",
     "output_type": "stream",
     "text": [
      "Epoch [35/100], loss: 0.00000 acc: 0.00000 val_loss: 0.26619, val_acc: 0.92350\n"
     ]
    },
    {
     "name": "stderr",
     "output_type": "stream",
     "text": [
      "100%|██████████| 120/120 [00:08<00:00, 14.19it/s]\n"
     ]
    },
    {
     "name": "stdout",
     "output_type": "stream",
     "text": [
      "Epoch [36/100], loss: 0.00000 acc: 0.00000 val_loss: 0.26494, val_acc: 0.92420\n"
     ]
    },
    {
     "name": "stderr",
     "output_type": "stream",
     "text": [
      "100%|██████████| 120/120 [00:08<00:00, 14.00it/s]\n"
     ]
    },
    {
     "name": "stdout",
     "output_type": "stream",
     "text": [
      "Epoch [37/100], loss: 0.00000 acc: 0.00000 val_loss: 0.26234, val_acc: 0.92460\n"
     ]
    },
    {
     "name": "stderr",
     "output_type": "stream",
     "text": [
      "100%|██████████| 120/120 [00:08<00:00, 14.06it/s]\n"
     ]
    },
    {
     "name": "stdout",
     "output_type": "stream",
     "text": [
      "Epoch [38/100], loss: 0.00000 acc: 0.00000 val_loss: 0.26119, val_acc: 0.92620\n"
     ]
    },
    {
     "name": "stderr",
     "output_type": "stream",
     "text": [
      "100%|██████████| 120/120 [00:08<00:00, 13.77it/s]\n"
     ]
    },
    {
     "name": "stdout",
     "output_type": "stream",
     "text": [
      "Epoch [39/100], loss: 0.00000 acc: 0.00000 val_loss: 0.25866, val_acc: 0.92590\n"
     ]
    },
    {
     "name": "stderr",
     "output_type": "stream",
     "text": [
      "100%|██████████| 120/120 [00:08<00:00, 13.69it/s]\n"
     ]
    },
    {
     "name": "stdout",
     "output_type": "stream",
     "text": [
      "Epoch [40/100], loss: 0.00000 acc: 0.00000 val_loss: 0.25693, val_acc: 0.92690\n"
     ]
    },
    {
     "name": "stderr",
     "output_type": "stream",
     "text": [
      "100%|██████████| 120/120 [00:08<00:00, 13.98it/s]\n"
     ]
    },
    {
     "name": "stdout",
     "output_type": "stream",
     "text": [
      "Epoch [41/100], loss: 0.00000 acc: 0.00000 val_loss: 0.25644, val_acc: 0.92740\n"
     ]
    },
    {
     "name": "stderr",
     "output_type": "stream",
     "text": [
      "100%|██████████| 120/120 [00:08<00:00, 14.11it/s]\n"
     ]
    },
    {
     "name": "stdout",
     "output_type": "stream",
     "text": [
      "Epoch [42/100], loss: 0.00000 acc: 0.00000 val_loss: 0.25289, val_acc: 0.92770\n"
     ]
    },
    {
     "name": "stderr",
     "output_type": "stream",
     "text": [
      "100%|██████████| 120/120 [00:08<00:00, 13.88it/s]\n"
     ]
    },
    {
     "name": "stdout",
     "output_type": "stream",
     "text": [
      "Epoch [43/100], loss: 0.00000 acc: 0.00000 val_loss: 0.25115, val_acc: 0.92830\n"
     ]
    },
    {
     "name": "stderr",
     "output_type": "stream",
     "text": [
      "100%|██████████| 120/120 [00:08<00:00, 14.02it/s]\n"
     ]
    },
    {
     "name": "stdout",
     "output_type": "stream",
     "text": [
      "Epoch [44/100], loss: 0.00000 acc: 0.00000 val_loss: 0.25133, val_acc: 0.92900\n"
     ]
    },
    {
     "name": "stderr",
     "output_type": "stream",
     "text": [
      "100%|██████████| 120/120 [00:08<00:00, 13.76it/s]\n"
     ]
    },
    {
     "name": "stdout",
     "output_type": "stream",
     "text": [
      "Epoch [45/100], loss: 0.00000 acc: 0.00000 val_loss: 0.24776, val_acc: 0.92910\n"
     ]
    },
    {
     "name": "stderr",
     "output_type": "stream",
     "text": [
      "100%|██████████| 120/120 [00:08<00:00, 13.82it/s]\n"
     ]
    },
    {
     "name": "stdout",
     "output_type": "stream",
     "text": [
      "Epoch [46/100], loss: 0.00000 acc: 0.00000 val_loss: 0.24704, val_acc: 0.92900\n"
     ]
    },
    {
     "name": "stderr",
     "output_type": "stream",
     "text": [
      "100%|██████████| 120/120 [00:08<00:00, 13.87it/s]\n"
     ]
    },
    {
     "name": "stdout",
     "output_type": "stream",
     "text": [
      "Epoch [47/100], loss: 0.00000 acc: 0.00000 val_loss: 0.24341, val_acc: 0.93070\n"
     ]
    },
    {
     "name": "stderr",
     "output_type": "stream",
     "text": [
      "100%|██████████| 120/120 [00:08<00:00, 14.11it/s]\n"
     ]
    },
    {
     "name": "stdout",
     "output_type": "stream",
     "text": [
      "Epoch [48/100], loss: 0.00000 acc: 0.00000 val_loss: 0.24247, val_acc: 0.93140\n"
     ]
    },
    {
     "name": "stderr",
     "output_type": "stream",
     "text": [
      "100%|██████████| 120/120 [00:08<00:00, 14.03it/s]\n"
     ]
    },
    {
     "name": "stdout",
     "output_type": "stream",
     "text": [
      "Epoch [49/100], loss: 0.00000 acc: 0.00000 val_loss: 0.24058, val_acc: 0.93160\n"
     ]
    },
    {
     "name": "stderr",
     "output_type": "stream",
     "text": [
      "100%|██████████| 120/120 [00:08<00:00, 14.15it/s]\n"
     ]
    },
    {
     "name": "stdout",
     "output_type": "stream",
     "text": [
      "Epoch [50/100], loss: 0.00000 acc: 0.00000 val_loss: 0.23849, val_acc: 0.93210\n"
     ]
    },
    {
     "name": "stderr",
     "output_type": "stream",
     "text": [
      "100%|██████████| 120/120 [00:08<00:00, 14.04it/s]\n"
     ]
    },
    {
     "name": "stdout",
     "output_type": "stream",
     "text": [
      "Epoch [51/100], loss: 0.00000 acc: 0.00000 val_loss: 0.23675, val_acc: 0.93340\n"
     ]
    },
    {
     "name": "stderr",
     "output_type": "stream",
     "text": [
      "100%|██████████| 120/120 [00:08<00:00, 13.87it/s]\n"
     ]
    },
    {
     "name": "stdout",
     "output_type": "stream",
     "text": [
      "Epoch [52/100], loss: 0.00000 acc: 0.00000 val_loss: 0.23514, val_acc: 0.93340\n"
     ]
    },
    {
     "name": "stderr",
     "output_type": "stream",
     "text": [
      "100%|██████████| 120/120 [00:08<00:00, 14.01it/s]\n"
     ]
    },
    {
     "name": "stdout",
     "output_type": "stream",
     "text": [
      "Epoch [53/100], loss: 0.00000 acc: 0.00000 val_loss: 0.23325, val_acc: 0.93400\n"
     ]
    },
    {
     "name": "stderr",
     "output_type": "stream",
     "text": [
      "100%|██████████| 120/120 [00:08<00:00, 14.09it/s]\n"
     ]
    },
    {
     "name": "stdout",
     "output_type": "stream",
     "text": [
      "Epoch [54/100], loss: 0.00000 acc: 0.00000 val_loss: 0.23128, val_acc: 0.93460\n"
     ]
    },
    {
     "name": "stderr",
     "output_type": "stream",
     "text": [
      "100%|██████████| 120/120 [00:08<00:00, 14.06it/s]\n"
     ]
    },
    {
     "name": "stdout",
     "output_type": "stream",
     "text": [
      "Epoch [55/100], loss: 0.00000 acc: 0.00000 val_loss: 0.22960, val_acc: 0.93400\n"
     ]
    },
    {
     "name": "stderr",
     "output_type": "stream",
     "text": [
      "100%|██████████| 120/120 [00:08<00:00, 13.89it/s]\n"
     ]
    },
    {
     "name": "stdout",
     "output_type": "stream",
     "text": [
      "Epoch [56/100], loss: 0.00000 acc: 0.00000 val_loss: 0.22790, val_acc: 0.93570\n"
     ]
    },
    {
     "name": "stderr",
     "output_type": "stream",
     "text": [
      "100%|██████████| 120/120 [00:08<00:00, 14.12it/s]\n"
     ]
    },
    {
     "name": "stdout",
     "output_type": "stream",
     "text": [
      "Epoch [57/100], loss: 0.00000 acc: 0.00000 val_loss: 0.22646, val_acc: 0.93600\n"
     ]
    },
    {
     "name": "stderr",
     "output_type": "stream",
     "text": [
      "100%|██████████| 120/120 [00:08<00:00, 13.96it/s]\n"
     ]
    },
    {
     "name": "stdout",
     "output_type": "stream",
     "text": [
      "Epoch [58/100], loss: 0.00000 acc: 0.00000 val_loss: 0.22494, val_acc: 0.93640\n"
     ]
    },
    {
     "name": "stderr",
     "output_type": "stream",
     "text": [
      "100%|██████████| 120/120 [00:08<00:00, 13.97it/s]\n"
     ]
    },
    {
     "name": "stdout",
     "output_type": "stream",
     "text": [
      "Epoch [59/100], loss: 0.00000 acc: 0.00000 val_loss: 0.22299, val_acc: 0.93660\n"
     ]
    },
    {
     "name": "stderr",
     "output_type": "stream",
     "text": [
      "100%|██████████| 120/120 [00:08<00:00, 13.69it/s]\n"
     ]
    },
    {
     "name": "stdout",
     "output_type": "stream",
     "text": [
      "Epoch [60/100], loss: 0.00000 acc: 0.00000 val_loss: 0.22136, val_acc: 0.93690\n"
     ]
    },
    {
     "name": "stderr",
     "output_type": "stream",
     "text": [
      "100%|██████████| 120/120 [00:08<00:00, 13.95it/s]\n"
     ]
    },
    {
     "name": "stdout",
     "output_type": "stream",
     "text": [
      "Epoch [61/100], loss: 0.00000 acc: 0.00000 val_loss: 0.22064, val_acc: 0.93710\n"
     ]
    },
    {
     "name": "stderr",
     "output_type": "stream",
     "text": [
      "100%|██████████| 120/120 [00:08<00:00, 13.91it/s]\n"
     ]
    },
    {
     "name": "stdout",
     "output_type": "stream",
     "text": [
      "Epoch [62/100], loss: 0.00000 acc: 0.00000 val_loss: 0.21771, val_acc: 0.93750\n"
     ]
    },
    {
     "name": "stderr",
     "output_type": "stream",
     "text": [
      "100%|██████████| 120/120 [00:08<00:00, 13.98it/s]\n"
     ]
    },
    {
     "name": "stdout",
     "output_type": "stream",
     "text": [
      "Epoch [63/100], loss: 0.00000 acc: 0.00000 val_loss: 0.21712, val_acc: 0.93760\n"
     ]
    },
    {
     "name": "stderr",
     "output_type": "stream",
     "text": [
      "100%|██████████| 120/120 [00:08<00:00, 13.79it/s]\n"
     ]
    },
    {
     "name": "stdout",
     "output_type": "stream",
     "text": [
      "Epoch [64/100], loss: 0.00000 acc: 0.00000 val_loss: 0.21517, val_acc: 0.93820\n"
     ]
    },
    {
     "name": "stderr",
     "output_type": "stream",
     "text": [
      "100%|██████████| 120/120 [00:08<00:00, 13.76it/s]\n"
     ]
    },
    {
     "name": "stdout",
     "output_type": "stream",
     "text": [
      "Epoch [65/100], loss: 0.00000 acc: 0.00000 val_loss: 0.21317, val_acc: 0.93930\n"
     ]
    },
    {
     "name": "stderr",
     "output_type": "stream",
     "text": [
      "100%|██████████| 120/120 [00:08<00:00, 14.14it/s]\n"
     ]
    },
    {
     "name": "stdout",
     "output_type": "stream",
     "text": [
      "Epoch [66/100], loss: 0.00000 acc: 0.00000 val_loss: 0.21176, val_acc: 0.93980\n"
     ]
    },
    {
     "name": "stderr",
     "output_type": "stream",
     "text": [
      "100%|██████████| 120/120 [00:08<00:00, 13.92it/s]\n"
     ]
    },
    {
     "name": "stdout",
     "output_type": "stream",
     "text": [
      "Epoch [67/100], loss: 0.00000 acc: 0.00000 val_loss: 0.21070, val_acc: 0.93860\n"
     ]
    },
    {
     "name": "stderr",
     "output_type": "stream",
     "text": [
      "100%|██████████| 120/120 [00:08<00:00, 14.25it/s]\n"
     ]
    },
    {
     "name": "stdout",
     "output_type": "stream",
     "text": [
      "Epoch [68/100], loss: 0.00000 acc: 0.00000 val_loss: 0.20883, val_acc: 0.93940\n"
     ]
    },
    {
     "name": "stderr",
     "output_type": "stream",
     "text": [
      "100%|██████████| 120/120 [00:08<00:00, 13.87it/s]\n"
     ]
    },
    {
     "name": "stdout",
     "output_type": "stream",
     "text": [
      "Epoch [69/100], loss: 0.00000 acc: 0.00000 val_loss: 0.20718, val_acc: 0.93990\n"
     ]
    },
    {
     "name": "stderr",
     "output_type": "stream",
     "text": [
      "100%|██████████| 120/120 [00:08<00:00, 13.98it/s]\n"
     ]
    },
    {
     "name": "stdout",
     "output_type": "stream",
     "text": [
      "Epoch [70/100], loss: 0.00000 acc: 0.00000 val_loss: 0.20630, val_acc: 0.94070\n"
     ]
    },
    {
     "name": "stderr",
     "output_type": "stream",
     "text": [
      "100%|██████████| 120/120 [00:08<00:00, 13.79it/s]\n"
     ]
    },
    {
     "name": "stdout",
     "output_type": "stream",
     "text": [
      "Epoch [71/100], loss: 0.00000 acc: 0.00000 val_loss: 0.20516, val_acc: 0.93990\n"
     ]
    },
    {
     "name": "stderr",
     "output_type": "stream",
     "text": [
      "100%|██████████| 120/120 [00:08<00:00, 13.92it/s]\n"
     ]
    },
    {
     "name": "stdout",
     "output_type": "stream",
     "text": [
      "Epoch [72/100], loss: 0.00000 acc: 0.00000 val_loss: 0.20327, val_acc: 0.94020\n"
     ]
    },
    {
     "name": "stderr",
     "output_type": "stream",
     "text": [
      "100%|██████████| 120/120 [00:08<00:00, 13.90it/s]\n"
     ]
    },
    {
     "name": "stdout",
     "output_type": "stream",
     "text": [
      "Epoch [73/100], loss: 0.00000 acc: 0.00000 val_loss: 0.20180, val_acc: 0.94230\n"
     ]
    },
    {
     "name": "stderr",
     "output_type": "stream",
     "text": [
      "100%|██████████| 120/120 [00:08<00:00, 13.92it/s]\n"
     ]
    },
    {
     "name": "stdout",
     "output_type": "stream",
     "text": [
      "Epoch [74/100], loss: 0.00000 acc: 0.00000 val_loss: 0.20043, val_acc: 0.94280\n"
     ]
    },
    {
     "name": "stderr",
     "output_type": "stream",
     "text": [
      "100%|██████████| 120/120 [00:08<00:00, 13.38it/s]\n"
     ]
    },
    {
     "name": "stdout",
     "output_type": "stream",
     "text": [
      "Epoch [75/100], loss: 0.00000 acc: 0.00000 val_loss: 0.19939, val_acc: 0.94210\n"
     ]
    },
    {
     "name": "stderr",
     "output_type": "stream",
     "text": [
      "100%|██████████| 120/120 [00:08<00:00, 13.46it/s]\n"
     ]
    },
    {
     "name": "stdout",
     "output_type": "stream",
     "text": [
      "Epoch [76/100], loss: 0.00000 acc: 0.00000 val_loss: 0.19780, val_acc: 0.94320\n"
     ]
    },
    {
     "name": "stderr",
     "output_type": "stream",
     "text": [
      "100%|██████████| 120/120 [00:08<00:00, 13.75it/s]\n"
     ]
    },
    {
     "name": "stdout",
     "output_type": "stream",
     "text": [
      "Epoch [77/100], loss: 0.00000 acc: 0.00000 val_loss: 0.19624, val_acc: 0.94280\n"
     ]
    },
    {
     "name": "stderr",
     "output_type": "stream",
     "text": [
      "100%|██████████| 120/120 [00:08<00:00, 13.94it/s]\n"
     ]
    },
    {
     "name": "stdout",
     "output_type": "stream",
     "text": [
      "Epoch [78/100], loss: 0.00000 acc: 0.00000 val_loss: 0.19682, val_acc: 0.94260\n"
     ]
    },
    {
     "name": "stderr",
     "output_type": "stream",
     "text": [
      "100%|██████████| 120/120 [00:08<00:00, 13.78it/s]\n"
     ]
    },
    {
     "name": "stdout",
     "output_type": "stream",
     "text": [
      "Epoch [79/100], loss: 0.00000 acc: 0.00000 val_loss: 0.19369, val_acc: 0.94360\n"
     ]
    },
    {
     "name": "stderr",
     "output_type": "stream",
     "text": [
      "100%|██████████| 120/120 [00:09<00:00, 13.30it/s]\n"
     ]
    },
    {
     "name": "stdout",
     "output_type": "stream",
     "text": [
      "Epoch [80/100], loss: 0.00000 acc: 0.00000 val_loss: 0.19320, val_acc: 0.94300\n"
     ]
    },
    {
     "name": "stderr",
     "output_type": "stream",
     "text": [
      "100%|██████████| 120/120 [00:08<00:00, 13.75it/s]\n"
     ]
    },
    {
     "name": "stdout",
     "output_type": "stream",
     "text": [
      "Epoch [81/100], loss: 0.00000 acc: 0.00000 val_loss: 0.19105, val_acc: 0.94460\n"
     ]
    },
    {
     "name": "stderr",
     "output_type": "stream",
     "text": [
      "100%|██████████| 120/120 [00:08<00:00, 13.56it/s]\n"
     ]
    },
    {
     "name": "stdout",
     "output_type": "stream",
     "text": [
      "Epoch [82/100], loss: 0.00000 acc: 0.00000 val_loss: 0.19026, val_acc: 0.94540\n"
     ]
    },
    {
     "name": "stderr",
     "output_type": "stream",
     "text": [
      "100%|██████████| 120/120 [00:08<00:00, 13.68it/s]\n"
     ]
    },
    {
     "name": "stdout",
     "output_type": "stream",
     "text": [
      "Epoch [83/100], loss: 0.00000 acc: 0.00000 val_loss: 0.18917, val_acc: 0.94480\n"
     ]
    },
    {
     "name": "stderr",
     "output_type": "stream",
     "text": [
      "100%|██████████| 120/120 [00:08<00:00, 13.67it/s]\n"
     ]
    },
    {
     "name": "stdout",
     "output_type": "stream",
     "text": [
      "Epoch [84/100], loss: 0.00000 acc: 0.00000 val_loss: 0.18802, val_acc: 0.94480\n"
     ]
    },
    {
     "name": "stderr",
     "output_type": "stream",
     "text": [
      "100%|██████████| 120/120 [00:08<00:00, 13.37it/s]\n"
     ]
    },
    {
     "name": "stdout",
     "output_type": "stream",
     "text": [
      "Epoch [85/100], loss: 0.00000 acc: 0.00000 val_loss: 0.18650, val_acc: 0.94530\n"
     ]
    },
    {
     "name": "stderr",
     "output_type": "stream",
     "text": [
      "100%|██████████| 120/120 [00:08<00:00, 13.70it/s]\n"
     ]
    },
    {
     "name": "stdout",
     "output_type": "stream",
     "text": [
      "Epoch [86/100], loss: 0.00000 acc: 0.00000 val_loss: 0.18525, val_acc: 0.94640\n"
     ]
    },
    {
     "name": "stderr",
     "output_type": "stream",
     "text": [
      "100%|██████████| 120/120 [00:08<00:00, 13.43it/s]\n"
     ]
    },
    {
     "name": "stdout",
     "output_type": "stream",
     "text": [
      "Epoch [87/100], loss: 0.00000 acc: 0.00000 val_loss: 0.18406, val_acc: 0.94630\n"
     ]
    },
    {
     "name": "stderr",
     "output_type": "stream",
     "text": [
      "100%|██████████| 120/120 [00:08<00:00, 13.44it/s]\n"
     ]
    },
    {
     "name": "stdout",
     "output_type": "stream",
     "text": [
      "Epoch [88/100], loss: 0.00000 acc: 0.00000 val_loss: 0.18266, val_acc: 0.94650\n"
     ]
    },
    {
     "name": "stderr",
     "output_type": "stream",
     "text": [
      "100%|██████████| 120/120 [00:08<00:00, 13.77it/s]\n"
     ]
    },
    {
     "name": "stdout",
     "output_type": "stream",
     "text": [
      "Epoch [89/100], loss: 0.00000 acc: 0.00000 val_loss: 0.18173, val_acc: 0.94720\n"
     ]
    },
    {
     "name": "stderr",
     "output_type": "stream",
     "text": [
      "100%|██████████| 120/120 [00:08<00:00, 13.93it/s]\n"
     ]
    },
    {
     "name": "stdout",
     "output_type": "stream",
     "text": [
      "Epoch [90/100], loss: 0.00000 acc: 0.00000 val_loss: 0.18065, val_acc: 0.94740\n"
     ]
    },
    {
     "name": "stderr",
     "output_type": "stream",
     "text": [
      "100%|██████████| 120/120 [00:08<00:00, 13.54it/s]\n"
     ]
    },
    {
     "name": "stdout",
     "output_type": "stream",
     "text": [
      "Epoch [91/100], loss: 0.00000 acc: 0.00000 val_loss: 0.18017, val_acc: 0.94720\n"
     ]
    },
    {
     "name": "stderr",
     "output_type": "stream",
     "text": [
      "100%|██████████| 120/120 [00:08<00:00, 13.90it/s]\n"
     ]
    },
    {
     "name": "stdout",
     "output_type": "stream",
     "text": [
      "Epoch [92/100], loss: 0.00000 acc: 0.00000 val_loss: 0.17872, val_acc: 0.94780\n"
     ]
    },
    {
     "name": "stderr",
     "output_type": "stream",
     "text": [
      "100%|██████████| 120/120 [00:08<00:00, 13.64it/s]\n"
     ]
    },
    {
     "name": "stdout",
     "output_type": "stream",
     "text": [
      "Epoch [93/100], loss: 0.00000 acc: 0.00000 val_loss: 0.17738, val_acc: 0.94790\n"
     ]
    },
    {
     "name": "stderr",
     "output_type": "stream",
     "text": [
      "100%|██████████| 120/120 [00:08<00:00, 13.77it/s]\n"
     ]
    },
    {
     "name": "stdout",
     "output_type": "stream",
     "text": [
      "Epoch [94/100], loss: 0.00000 acc: 0.00000 val_loss: 0.17653, val_acc: 0.94800\n"
     ]
    },
    {
     "name": "stderr",
     "output_type": "stream",
     "text": [
      "100%|██████████| 120/120 [00:08<00:00, 13.76it/s]\n"
     ]
    },
    {
     "name": "stdout",
     "output_type": "stream",
     "text": [
      "Epoch [95/100], loss: 0.00000 acc: 0.00000 val_loss: 0.17544, val_acc: 0.94750\n"
     ]
    },
    {
     "name": "stderr",
     "output_type": "stream",
     "text": [
      "100%|██████████| 120/120 [00:08<00:00, 13.64it/s]\n"
     ]
    },
    {
     "name": "stdout",
     "output_type": "stream",
     "text": [
      "Epoch [96/100], loss: 0.00000 acc: 0.00000 val_loss: 0.17444, val_acc: 0.94810\n"
     ]
    },
    {
     "name": "stderr",
     "output_type": "stream",
     "text": [
      "100%|██████████| 120/120 [00:08<00:00, 13.50it/s]\n"
     ]
    },
    {
     "name": "stdout",
     "output_type": "stream",
     "text": [
      "Epoch [97/100], loss: 0.00000 acc: 0.00000 val_loss: 0.17346, val_acc: 0.94870\n"
     ]
    },
    {
     "name": "stderr",
     "output_type": "stream",
     "text": [
      "100%|██████████| 120/120 [00:08<00:00, 13.91it/s]\n"
     ]
    },
    {
     "name": "stdout",
     "output_type": "stream",
     "text": [
      "Epoch [98/100], loss: 0.00000 acc: 0.00000 val_loss: 0.17270, val_acc: 0.94850\n"
     ]
    },
    {
     "name": "stderr",
     "output_type": "stream",
     "text": [
      "100%|██████████| 120/120 [00:08<00:00, 13.73it/s]\n"
     ]
    },
    {
     "name": "stdout",
     "output_type": "stream",
     "text": [
      "Epoch [99/100], loss: 0.00000 acc: 0.00000 val_loss: 0.17237, val_acc: 0.94880\n"
     ]
    },
    {
     "name": "stderr",
     "output_type": "stream",
     "text": [
      "100%|██████████| 120/120 [00:08<00:00, 13.75it/s]\n"
     ]
    },
    {
     "name": "stdout",
     "output_type": "stream",
     "text": [
      "Epoch [100/100], loss: 0.00000 acc: 0.00000 val_loss: 0.17155, val_acc: 0.94870\n"
     ]
    }
   ],
   "source": [
    "torch.manual_seed(123)\n",
    "torch.cuda.manual_seed(123)\n",
    "\n",
    "lr=0.01\n",
    "\n",
    "# 모델 초기화 \n",
    "net = Net(n_input, n_output, n_hidden).to(device)\n",
    "\n",
    "critetion = nn.CrossEntropyLoss()\n",
    "optimizer = optim.SGD(net.parameters(), lr=lr)\n",
    "num_epochs = 100\n",
    "history2 = np.zeros((0,5))\n",
    "\n",
    "\n",
    "from tqdm import tqdm\n",
    "\n",
    "# 반복 계산 메인 루프 \n",
    "for epoch in range(num_epochs):\n",
    "    train_acc, train_loss = 0, 0\n",
    "    val_acc, val_loss = 0, 0\n",
    "    n_train, n_test = 0, 0\n",
    "\n",
    "    # 훈련 페이즈 \n",
    "    for inputs, labels in tqdm(train_loader):\n",
    "        n_train += len(labels)\n",
    "\n",
    "        # GPU 전송\n",
    "        inputs = inputs.to(device)\n",
    "        labels = labels.to(device)\n",
    "\n",
    "        # 경사 초기화 \n",
    "        optimizer.zero_grad()\n",
    "        \n",
    "        # 예측 계산\n",
    "        outputs = net(inputs)\n",
    "        \n",
    "        # 손실 계산\n",
    "        loss = criterion(outputs, labels)\n",
    "\n",
    "        # 경사 계산 \n",
    "        loss.backward()\n",
    "\n",
    "        # 파라미터 수정 \n",
    "        optimizer.step() \n",
    "\n",
    "\n",
    "    # 예측 페이즈 \n",
    "    for inputs_test, labels_test in test_loader:\n",
    "        n_test += len(labels_test)\n",
    "\n",
    "        inputs_test = inputs_test.to(device)\n",
    "        labels_test = labels_test.to(device)\n",
    "\n",
    "        # 예측 계산\n",
    "        outputs_test = net(inputs_test)\n",
    "\n",
    "        # 손실 계산 \n",
    "        loss_test = criterion(outputs_test, labels_test)\n",
    "\n",
    "        # 예측 라벨 산출\n",
    "        predicted_test = torch.max(outputs_test, 1)[1]\n",
    "\n",
    "        # 손실과 정확도 계산 \n",
    "        val_loss += loss_test.item() \n",
    "        val_acc += (predicted_test == labels_test).sum().item()\n",
    "\n",
    "\n",
    "# 평가 결과 산출, 기록\n",
    "    train_acc = train_acc / n_train\n",
    "    val_acc = val_acc / n_test\n",
    "    train_loss = train_loss * batch_size / n_train\n",
    "    val_loss = val_loss * batch_size / n_test\n",
    "    print (f'Epoch [{epoch+1}/{num_epochs}], loss: {train_loss:.5f} acc: {train_acc:.5f} val_loss: {val_loss:.5f}, val_acc: {val_acc:.5f}')\n",
    "    item = np.array([epoch+1 , train_loss, train_acc, val_loss, val_acc])\n",
    "    history2 = np.vstack((history2, item))\n",
    "\n",
    "\n",
    "\n",
    "\n",
    "\n",
    "\n",
    "\n",
    "\n",
    "\n",
    "\n"
   ]
  },
  {
   "cell_type": "code",
   "execution_count": 28,
   "metadata": {},
   "outputs": [
    {
     "name": "stdout",
     "output_type": "stream",
     "text": [
      "초기상태 : 손실 : 1.32709 정확도 : 0.73700\n",
      "최종상태 : 손실 : 0.17155 정확도 : 0.94870\n"
     ]
    }
   ],
   "source": [
    "# 결과 확인\n",
    "\n",
    "print(f'초기상태 : 손실 : {history2[0,3]:.5f} 정확도 : {history2[0,4]:.5f}')\n",
    "print(f'최종상태 : 손실 : {history2[-1,3]:.5f} 정확도 : {history2[-1,4]:.5f}')"
   ]
  },
  {
   "cell_type": "code",
   "execution_count": 31,
   "metadata": {},
   "outputs": [
    {
     "data": {
      "image/png": "[encoded data removed]",
      "text/plain": [
       "<Figure size 640x480 with 1 Axes>"
      ]
     },
     "metadata": {},
     "output_type": "display_data"
    }
   ],
   "source": [
    "plt.plot(history2[:,0], history2[:,1], 'b', label='train')\n",
    "plt.plot(history2[:,0], history2[:,3], 'k', label='val')\n",
    "plt.xlabel('num_epoch')\n",
    "plt.ylabel('loss')\n",
    "plt.title('train_loss')\n",
    "plt.legend()\n",
    "plt.show()"
   ]
  }
 ],
 "metadata": {
  "kernelspec": {
   "display_name": "dl",
   "language": "python",
   "name": "python3"
  },
  "language_info": {
   "codemirror_mode": {
    "name": "ipython",
    "version": 3
   },
   "file_extension": ".py",
   "mimetype": "text/x-python",
   "name": "python",
   "nbconvert_exporter": "python",
   "pygments_lexer": "ipython3",
   "version": "3.8.15 (default, Nov 24 2022, 14:38:14) [MSC v.1916 64 bit (AMD64)]"
  },
  "orig_nbformat": 4,
  "vscode": {
   "interpreter": {
    "hash": "8d53016de1ba688087103bdb1d336e55aee453f16599935fdd23fb9d497997ad"
   }
  }
 },
 "nbformat": 4,
 "nbformat_minor": 2
}
